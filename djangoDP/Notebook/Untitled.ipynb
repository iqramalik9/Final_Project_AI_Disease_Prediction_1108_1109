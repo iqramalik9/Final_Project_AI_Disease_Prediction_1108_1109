{
 "cells": [
  {
   "cell_type": "code",
   "execution_count": 1,
   "id": "2f5205c9",
   "metadata": {},
   "outputs": [
    {
     "data": {
      "text/plain": [
       "itching                  int64\n",
       "skin_rash                int64\n",
       "nodal_skin_eruptions     int64\n",
       "continuous_sneezing      int64\n",
       "shivering                int64\n",
       "                         ...  \n",
       "inflammatory_nails       int64\n",
       "blister                  int64\n",
       "red_sore_around_nose     int64\n",
       "yellow_crust_ooze        int64\n",
       "prognosis               object\n",
       "Length: 133, dtype: object"
      ]
     },
     "execution_count": 1,
     "metadata": {},
     "output_type": "execute_result"
    }
   ],
   "source": [
    "import pandas as pd\n",
    "import numpy as np\n",
    "df = pd.read_csv(\"dataset_complete.csv\")\n",
    "df.dtypes"
   ]
  },
  {
   "cell_type": "code",
   "execution_count": 4,
   "id": "0da873e8",
   "metadata": {},
   "outputs": [
    {
     "data": {
      "text/plain": [
       "itching                 float64\n",
       "skin_rash               float64\n",
       "nodal_skin_eruptions    float64\n",
       "continuous_sneezing     float64\n",
       "shivering               float64\n",
       "                         ...   \n",
       "inflammatory_nails        int64\n",
       "blister                   int64\n",
       "red_sore_around_nose      int64\n",
       "yellow_crust_ooze         int64\n",
       "prognosis                object\n",
       "Length: 133, dtype: object"
      ]
     },
     "execution_count": 4,
     "metadata": {},
     "output_type": "execute_result"
    }
   ],
   "source": [
    "df['itching'] = df['itching'].astype(float)\n",
    "df['skin_rash'] = df['skin_rash'].astype(float)\n",
    "df['nodal_skin_eruptions'] = df['nodal_skin_eruptions'].astype(float)\n",
    "df['continuous_sneezing'] = df['continuous_sneezing'].astype(float)\n",
    "df['shivering'] = df['shivering'].astype(float)\n",
    "df['chills'] = df['chills'].astype(float)\n",
    "df['joint_pain'] = df['joint_pain'].astype(float)\n",
    "df['stomach_pain'] = df['stomach_pain'].astype(float)\n",
    "df['acidity'] = df['acidity'].astype(float)\n",
    "df['ulcers_on_tongue'] = df['ulcers_on_tongue'].astype(float)\n",
    "df['muscle_wasting'] = df['muscle_wasting'].astype(float)\n",
    "df['vomiting'] = df['vomiting'].astype(float)\n",
    "df['burning_micturition'] = df['burning_micturition'].astype(float)\n",
    "df['spotting_ urination'] = df['spotting_ urination'].astype(float)\n",
    "df['fatigue'] = df['fatigue'].astype(float)\n",
    "df['weight_gain'] = df['weight_gain'].astype(float)\n",
    "df['anxiety'] = df['anxiety'].astype(float)\n",
    "df['cold_hands_and_feets'] = df['cold_hands_and_feets'].astype(float)\n",
    "df['mood_swings'] = df['mood_swings'].astype(float)\n",
    "df['weight_loss'] = df['weight_loss'].astype(float)\n",
    "df['restlessness'] = df['restlessness'].astype(float)\n",
    "df['lethargy'] = df['lethargy'].astype(float)\n",
    "df['patches_in_throat'] = df['patches_in_throat'].astype(float)\n",
    "df['irregular_sugar_level'] = df['irregular_sugar_level'].astype(float)\n",
    "df['cough'] = df['cough'].astype(float)\n",
    "df['high_fever'] = df['high_fever'].astype(float)\n",
    "df.dtypes"
   ]
  },
  {
   "cell_type": "code",
   "execution_count": 6,
   "id": "58efe3f9",
   "metadata": {},
   "outputs": [
    {
     "data": {
      "text/plain": [
       "itching                 float64\n",
       "skin_rash               float64\n",
       "nodal_skin_eruptions    float64\n",
       "continuous_sneezing     float64\n",
       "shivering               float64\n",
       "                         ...   \n",
       "inflammatory_nails        int64\n",
       "blister                   int64\n",
       "red_sore_around_nose      int64\n",
       "yellow_crust_ooze         int64\n",
       "prognosis                object\n",
       "Length: 133, dtype: object"
      ]
     },
     "execution_count": 6,
     "metadata": {},
     "output_type": "execute_result"
    }
   ],
   "source": [
    "df['sunken_eyes'] = df['sunken_eyes'].astype(float)\n",
    "df['breathlessness'] = df['breathlessness'].astype(float)\n",
    "df['sweating'] = df['sweating'].astype(float)\n",
    "df['dehydration'] = df['dehydration'].astype(float)\n",
    "df['indigestion'] = df['indigestion'].astype(float)\n",
    "df['headache'] = df['headache'].astype(float)\n",
    "df['yellowish_skin'] = df['yellowish_skin'].astype(float)\n",
    "df['dark_urine'] = df['dark_urine'].astype(float)\n",
    "df['nausea'] = df['nausea'].astype(float)\n",
    "df['loss_of_appetite'] = df['loss_of_appetite'].astype(float)\n",
    "df['pain_behind_the_eyes'] = df['pain_behind_the_eyes'].astype(float)\n",
    "df['back_pain'] = df['back_pain'].astype(float)\n",
    "df['constipation'] = df['constipation'].astype(float)\n",
    "df['abdominal_pain'] = df['abdominal_pain'].astype(float)\n",
    "df['diarrhoea'] = df['diarrhoea'].astype(float)\n",
    "df['mild_fever'] = df['mild_fever'].astype(float)\n",
    "df['yellow_urine'] = df['yellow_urine'].astype(float)\n",
    "df['yellowing_of_eyes'] = df['yellowing_of_eyes'].astype(float)\n",
    "df['acute_liver_failure'] = df['acute_liver_failure'].astype(float)\n",
    "df['fluid_overload'] = df['fluid_overload'].astype(float)\n",
    "df['swelling_of_stomach'] = df['swelling_of_stomach'].astype(float)\n",
    "df['swelled_lymph_nodes'] = df['swelled_lymph_nodes'].astype(float)\n",
    "df['malaise'] = df['malaise'].astype(float)\n",
    "df['blurred_and_distorted_vision'] = df['blurred_and_distorted_vision'].astype(float)\n",
    "df['phlegm'] = df['phlegm'].astype(float)\n",
    "df['throat_irritation'] = df['throat_irritation'].astype(float)\n",
    "df.dtypes"
   ]
  },
  {
   "cell_type": "code",
   "execution_count": 9,
   "id": "17aa3d5f",
   "metadata": {},
   "outputs": [
    {
     "data": {
      "text/plain": [
       "itching                 float64\n",
       "skin_rash               float64\n",
       "nodal_skin_eruptions    float64\n",
       "continuous_sneezing     float64\n",
       "shivering               float64\n",
       "                         ...   \n",
       "inflammatory_nails        int64\n",
       "blister                   int64\n",
       "red_sore_around_nose      int64\n",
       "yellow_crust_ooze         int64\n",
       "prognosis                object\n",
       "Length: 133, dtype: object"
      ]
     },
     "execution_count": 9,
     "metadata": {},
     "output_type": "execute_result"
    }
   ],
   "source": [
    "df['redness_of_eyes'] = df['redness_of_eyes'].astype(float)\n",
    "df['sinus_pressure'] = df['sinus_pressure'].astype(float)\n",
    "df['runny_nose'] = df['runny_nose'].astype(float)\n",
    "df['congestion'] = df['congestion'].astype(float)\n",
    "df['chest_pain'] = df['chest_pain'].astype(float)\n",
    "df['weakness_in_limbs'] = df['weakness_in_limbs'].astype(float)\n",
    "df['fast_heart_rate'] = df['fast_heart_rate'].astype(float)\n",
    "df['pain_during_bowel_movements'] = df['pain_during_bowel_movements'].astype(float)\n",
    "df['pain_in_anal_region'] = df['pain_in_anal_region'].astype(float)\n",
    "df['bloody_stool'] = df['bloody_stool'].astype(float)\n",
    "df['irritation_in_anus'] = df['irritation_in_anus'].astype(float)\n",
    "df['neck_pain'] = df['neck_pain'].astype(float)\n",
    "df['dizziness'] = df['dizziness'].astype(float)\n",
    "df['cramps'] = df['cramps'].astype(float)\n",
    "df['bruising'] = df['bruising'].astype(float)\n",
    "df['obesity'] = df['obesity'].astype(float)\n",
    "df['swollen_legs'] = df['swollen_legs'].astype(float)\n",
    "df['swollen_blood_vessels'] = df['swollen_blood_vessels'].astype(float)\n",
    "df['puffy_face_and_eyes'] = df['puffy_face_and_eyes'].astype(float)\n",
    "df['enlarged_thyroid'] = df['enlarged_thyroid'].astype(float)\n",
    "df['brittle_nails'] = df['brittle_nails'].astype(float)\n",
    "df['swollen_extremeties'] = df['swollen_extremeties'].astype(float)\n",
    "df['excessive_hunger'] = df['excessive_hunger'].astype(float)\n",
    "df['extra_marital_contacts'] = df['extra_marital_contacts'].astype(float)\n",
    "df['drying_and_tingling_lips'] = df['drying_and_tingling_lips'].astype(float)\n",
    "df['slurred_speech'] = df['slurred_speech'].astype(float)\n",
    "df.dtypes"
   ]
  },
  {
   "cell_type": "code",
   "execution_count": 10,
   "id": "a6810034",
   "metadata": {},
   "outputs": [
    {
     "data": {
      "text/plain": [
       "itching                 float64\n",
       "skin_rash               float64\n",
       "nodal_skin_eruptions    float64\n",
       "continuous_sneezing     float64\n",
       "shivering               float64\n",
       "                         ...   \n",
       "inflammatory_nails        int64\n",
       "blister                   int64\n",
       "red_sore_around_nose      int64\n",
       "yellow_crust_ooze         int64\n",
       "prognosis                object\n",
       "Length: 133, dtype: object"
      ]
     },
     "execution_count": 10,
     "metadata": {},
     "output_type": "execute_result"
    }
   ],
   "source": [
    "df['knee_pain'] = df['knee_pain'].astype(float)\n",
    "df['hip_joint_pain'] = df['hip_joint_pain'].astype(float)\n",
    "df['muscle_weakness'] = df['muscle_weakness'].astype(float)\n",
    "df['stiff_neck'] = df['stiff_neck'].astype(float)\n",
    "df['swelling_joints'] = df['swelling_joints'].astype(float)\n",
    "df['movement_stiffness'] = df['movement_stiffness'].astype(float)\n",
    "df['spinning_movements'] = df['spinning_movements'].astype(float)\n",
    "df['loss_of_balance'] = df['loss_of_balance'].astype(float)\n",
    "df['unsteadiness'] = df['unsteadiness'].astype(float)\n",
    "df['weakness_of_one_body_side'] = df['weakness_of_one_body_side'].astype(float)\n",
    "df['loss_of_smell'] = df['loss_of_smell'].astype(float)\n",
    "df['bladder_discomfort'] = df['bladder_discomfort'].astype(float)\n",
    "df['foul_smell_of urine'] = df['foul_smell_of urine'].astype(float)\n",
    "df['continuous_feel_of_urine'] = df['continuous_feel_of_urine'].astype(float)\n",
    "df['passage_of_gases'] = df['passage_of_gases'].astype(float)\n",
    "df['internal_itching'] = df['internal_itching'].astype(float)\n",
    "df['toxic_look_(typhos)'] = df['toxic_look_(typhos)'].astype(float)\n",
    "df['depression'] = df['depression'].astype(float)\n",
    "df['irritability'] = df['irritability'].astype(float)\n",
    "df['muscle_pain'] = df['muscle_pain'].astype(float)\n",
    "df['altered_sensorium'] = df['altered_sensorium'].astype(float)\n",
    "df['red_spots_over_body'] = df['red_spots_over_body'].astype(float)\n",
    "df['belly_pain'] = df['belly_pain'].astype(float)\n",
    "df['abnormal_menstruation'] = df['abnormal_menstruation'].astype(float)\n",
    "df['dischromic _patches'] = df['dischromic _patches'].astype(float)\n",
    "df['watering_from_eyes'] = df['watering_from_eyes'].astype(float)\n",
    "df.dtypes"
   ]
  },
  {
   "cell_type": "code",
   "execution_count": 13,
   "id": "cb4f8cd5",
   "metadata": {},
   "outputs": [
    {
     "data": {
      "text/plain": [
       "itching                 float64\n",
       "skin_rash               float64\n",
       "nodal_skin_eruptions    float64\n",
       "continuous_sneezing     float64\n",
       "shivering               float64\n",
       "                         ...   \n",
       "inflammatory_nails      float64\n",
       "blister                 float64\n",
       "red_sore_around_nose      int64\n",
       "yellow_crust_ooze         int64\n",
       "prognosis                object\n",
       "Length: 133, dtype: object"
      ]
     },
     "execution_count": 13,
     "metadata": {},
     "output_type": "execute_result"
    }
   ],
   "source": [
    "df['increased_appetite'] = df['increased_appetite'].astype(float)\n",
    "df['polyuria'] = df['polyuria'].astype(float)\n",
    "df['family_history'] = df['family_history'].astype(float)\n",
    "df['mucoid_sputum'] = df['mucoid_sputum'].astype(float)\n",
    "df['rusty_sputum'] = df['rusty_sputum'].astype(float)\n",
    "df['lack_of_concentration'] = df['lack_of_concentration'].astype(float)\n",
    "df['visual_disturbances'] = df['visual_disturbances'].astype(float)\n",
    "df['receiving_blood_transfusion'] = df['receiving_blood_transfusion'].astype(float)\n",
    "df['receiving_unsterile_injections'] = df['receiving_unsterile_injections'].astype(float)\n",
    "df['coma'] = df['coma'].astype(float)\n",
    "df['stomach_bleeding'] = df['stomach_bleeding'].astype(float)\n",
    "df['distention_of_abdomen'] = df['distention_of_abdomen'].astype(float)\n",
    "df['history_of_alcohol_consumption'] = df['history_of_alcohol_consumption'].astype(float)\n",
    "df['fluid_overload'] = df['fluid_overload'].astype(float)\n",
    "df['blood_in_sputum'] = df['blood_in_sputum'].astype(float)\n",
    "df['prominent_veins_on_calf'] = df['prominent_veins_on_calf'].astype(float)\n",
    "df['palpitations'] = df['palpitations'].astype(float)\n",
    "df['painful_walking'] = df['painful_walking'].astype(float)\n",
    "df['pus_filled_pimples'] = df['pus_filled_pimples'].astype(float)\n",
    "df['blackheads'] = df['blackheads'].astype(float)\n",
    "df['scurring'] = df['scurring'].astype(float)\n",
    "df['skin_peeling'] = df['skin_peeling'].astype(float)\n",
    "df['silver_like_dusting'] = df['silver_like_dusting'].astype(float)\n",
    "df['small_dents_in_nails'] = df['small_dents_in_nails'].astype(float)\n",
    "df['inflammatory_nails'] = df['inflammatory_nails'].astype(float)\n",
    "df['blister'] = df['blister'].astype(float)\n",
    "df.dtypes"
   ]
  },
  {
   "cell_type": "code",
   "execution_count": 14,
   "id": "48ca40ab",
   "metadata": {},
   "outputs": [
    {
     "data": {
      "text/plain": [
       "itching                 float64\n",
       "skin_rash               float64\n",
       "nodal_skin_eruptions    float64\n",
       "continuous_sneezing     float64\n",
       "shivering               float64\n",
       "                         ...   \n",
       "inflammatory_nails      float64\n",
       "blister                 float64\n",
       "red_sore_around_nose    float64\n",
       "yellow_crust_ooze       float64\n",
       "prognosis                object\n",
       "Length: 133, dtype: object"
      ]
     },
     "execution_count": 14,
     "metadata": {},
     "output_type": "execute_result"
    }
   ],
   "source": [
    "df['red_sore_around_nose'] = df['red_sore_around_nose'].astype(float)\n",
    "df['yellow_crust_ooze'] = df['yellow_crust_ooze'].astype(float)\n",
    "df.dtypes"
   ]
  },
  {
   "cell_type": "code",
   "execution_count": 15,
   "id": "02b1e6bc",
   "metadata": {},
   "outputs": [
    {
     "name": "stdout",
     "output_type": "stream",
     "text": [
      "Defaulting to user installation because normal site-packages is not writeable\n",
      "Requirement already satisfied: scikit-multilearn in c:\\users\\zain\\appdata\\roaming\\python\\python311\\site-packages (0.2.0)\n"
     ]
    }
   ],
   "source": [
    "!pip install scikit-multilearn"
   ]
  },
  {
   "cell_type": "code",
   "execution_count": 16,
   "id": "b078d626",
   "metadata": {},
   "outputs": [
    {
     "name": "stdout",
     "output_type": "stream",
     "text": [
      "Defaulting to user installation because normal site-packages is not writeable\n",
      "Requirement already satisfied: neattext in c:\\users\\zain\\appdata\\roaming\\python\\python311\\site-packages (0.1.3)\n"
     ]
    }
   ],
   "source": [
    "from skmultilearn.problem_transform import BinaryRelevance\n",
    "from skmultilearn.problem_transform import ClassifierChain\n",
    "from skmultilearn.problem_transform import LabelPowerset\n",
    "!pip install neattext"
   ]
  },
  {
   "cell_type": "code",
   "execution_count": 17,
   "id": "87cdbdfb",
   "metadata": {},
   "outputs": [
    {
     "data": {
      "text/plain": [
       "0       {'text_noise': 0, 'text_length': 16, 'noise_co...\n",
       "1       {'text_noise': 0, 'text_length': 16, 'noise_co...\n",
       "2       {'text_noise': 0, 'text_length': 16, 'noise_co...\n",
       "3       {'text_noise': 0, 'text_length': 16, 'noise_co...\n",
       "4       {'text_noise': 0, 'text_length': 16, 'noise_co...\n",
       "                              ...                        \n",
       "4915    {'text_noise': 5.128205128205128, 'text_length...\n",
       "4916    {'text_noise': 0, 'text_length': 4, 'noise_cou...\n",
       "4917    {'text_noise': 0, 'text_length': 23, 'noise_co...\n",
       "4918    {'text_noise': 0, 'text_length': 9, 'noise_cou...\n",
       "4919    {'text_noise': 0, 'text_length': 8, 'noise_cou...\n",
       "Name: prognosis, Length: 4920, dtype: object"
      ]
     },
     "execution_count": 17,
     "metadata": {},
     "output_type": "execute_result"
    }
   ],
   "source": [
    "import neattext as nt\n",
    "import neattext.functions as nfx\n",
    "df['prognosis'].apply(lambda x:nt.TextFrame(x).noise_scan())"
   ]
  },
  {
   "cell_type": "code",
   "execution_count": 18,
   "id": "6ab50915",
   "metadata": {},
   "outputs": [
    {
     "data": {
      "text/plain": [
       "0       []\n",
       "1       []\n",
       "2       []\n",
       "3       []\n",
       "4       []\n",
       "        ..\n",
       "4915    []\n",
       "4916    []\n",
       "4917    []\n",
       "4918    []\n",
       "4919    []\n",
       "Name: prognosis, Length: 4920, dtype: object"
      ]
     },
     "execution_count": 18,
     "metadata": {},
     "output_type": "execute_result"
    }
   ],
   "source": [
    "df['prognosis'].apply(lambda x:nt.TextExtractor(x).extract_stopwords())"
   ]
  },
  {
   "cell_type": "code",
   "execution_count": 19,
   "id": "78e08354",
   "metadata": {},
   "outputs": [
    {
     "data": {
      "text/plain": [
       "0                             Fungal infection\n",
       "1                             Fungal infection\n",
       "2                             Fungal infection\n",
       "3                             Fungal infection\n",
       "4                             Fungal infection\n",
       "                         ...                  \n",
       "4915    (vertigo) Paroymsal Positional Vertigo\n",
       "4916                                      Acne\n",
       "4917                   Urinary tract infection\n",
       "4918                                 Psoriasis\n",
       "4919                                  Impetigo\n",
       "Name: prognosis, Length: 4920, dtype: object"
      ]
     },
     "execution_count": 19,
     "metadata": {},
     "output_type": "execute_result"
    }
   ],
   "source": [
    "df['prognosis'].apply(nfx.remove_stopwords)"
   ]
  },
  {
   "cell_type": "code",
   "execution_count": 20,
   "id": "af021984",
   "metadata": {},
   "outputs": [
    {
     "ename": "NameError",
     "evalue": "name 'TfidfVectorizer' is not defined",
     "output_type": "error",
     "traceback": [
      "\u001b[1;31m---------------------------------------------------------------------------\u001b[0m",
      "\u001b[1;31mNameError\u001b[0m                                 Traceback (most recent call last)",
      "Cell \u001b[1;32mIn[20], line 2\u001b[0m\n\u001b[0;32m      1\u001b[0m corpus \u001b[38;5;241m=\u001b[39m df[\u001b[38;5;124m'\u001b[39m\u001b[38;5;124mprognosis\u001b[39m\u001b[38;5;124m'\u001b[39m]\u001b[38;5;241m.\u001b[39mapply(nfx\u001b[38;5;241m.\u001b[39mremove_stopwords)\n\u001b[1;32m----> 2\u001b[0m tfidf \u001b[38;5;241m=\u001b[39m \u001b[43mTfidfVectorizer\u001b[49m()\n\u001b[0;32m      3\u001b[0m Xfeatures \u001b[38;5;241m=\u001b[39m tfidf\u001b[38;5;241m.\u001b[39mfit_transform(corpus)\u001b[38;5;241m.\u001b[39mtoarray()\n\u001b[0;32m      4\u001b[0m Xfeatures\n",
      "\u001b[1;31mNameError\u001b[0m: name 'TfidfVectorizer' is not defined"
     ]
    }
   ],
   "source": [
    "corpus = df['prognosis'].apply(nfx.remove_stopwords)\n",
    "tfidf = TfidfVectorizer()\n",
    "Xfeatures = tfidf.fit_transform(corpus).toarray()\n",
    "Xfeatures"
   ]
  },
  {
   "cell_type": "code",
   "execution_count": 21,
   "id": "29cb5d04",
   "metadata": {},
   "outputs": [
    {
     "ename": "NameError",
     "evalue": "name 'TfidfVectorizer' is not defined",
     "output_type": "error",
     "traceback": [
      "\u001b[1;31m---------------------------------------------------------------------------\u001b[0m",
      "\u001b[1;31mNameError\u001b[0m                                 Traceback (most recent call last)",
      "Cell \u001b[1;32mIn[21], line 1\u001b[0m\n\u001b[1;32m----> 1\u001b[0m tfidf \u001b[38;5;241m=\u001b[39m \u001b[43mTfidfVectorizer\u001b[49m()\n",
      "\u001b[1;31mNameError\u001b[0m: name 'TfidfVectorizer' is not defined"
     ]
    }
   ],
   "source": [
    "tfidf = TfidfVectorizer()"
   ]
  },
  {
   "cell_type": "code",
   "execution_count": 22,
   "id": "19546fbd",
   "metadata": {},
   "outputs": [],
   "source": [
    "from sklearn.feature_extraction.text import CountVectorizer\n",
    "from sklearn.feature_extraction.text import TfidfTransformer\n",
    "from sklearn.feature_extraction.text import TfidfVectorizer\n",
    "tfidf = TfidfVectorizer()"
   ]
  },
  {
   "cell_type": "code",
   "execution_count": 2,
   "id": "486d6875",
   "metadata": {},
   "outputs": [
    {
     "ename": "NameError",
     "evalue": "name 'df' is not defined",
     "output_type": "error",
     "traceback": [
      "\u001b[1;31m---------------------------------------------------------------------------\u001b[0m",
      "\u001b[1;31mNameError\u001b[0m                                 Traceback (most recent call last)",
      "Cell \u001b[1;32mIn[2], line 1\u001b[0m\n\u001b[1;32m----> 1\u001b[0m corpus \u001b[38;5;241m=\u001b[39m \u001b[43mdf\u001b[49m[\u001b[38;5;124m'\u001b[39m\u001b[38;5;124mprognosis\u001b[39m\u001b[38;5;124m'\u001b[39m]\u001b[38;5;241m.\u001b[39mapply(nfx\u001b[38;5;241m.\u001b[39mremove_stopwords)\n\u001b[0;32m      2\u001b[0m Xfeatures \u001b[38;5;241m=\u001b[39m tfidf\u001b[38;5;241m.\u001b[39mfit_transform(corpus)\u001b[38;5;241m.\u001b[39mtoarray()\n",
      "\u001b[1;31mNameError\u001b[0m: name 'df' is not defined"
     ]
    }
   ],
   "source": [
    "corpus = df['prognosis'].apply(nfx.remove_stopwords)\n",
    "Xfeatures = tfidf.fit_transform(corpus).toarray()\n",
    "Xfeatures"
   ]
  },
  {
   "cell_type": "code",
   "execution_count": 24,
   "id": "7088f6bf",
   "metadata": {},
   "outputs": [
    {
     "ename": "NameError",
     "evalue": "name 'train_test_split' is not defined",
     "output_type": "error",
     "traceback": [
      "\u001b[1;31m---------------------------------------------------------------------------\u001b[0m",
      "\u001b[1;31mNameError\u001b[0m                                 Traceback (most recent call last)",
      "Cell \u001b[1;32mIn[24], line 23\u001b[0m\n\u001b[0;32m      1\u001b[0m y \u001b[38;5;241m=\u001b[39m df[[\u001b[38;5;124m'\u001b[39m\u001b[38;5;124mitching\u001b[39m\u001b[38;5;124m'\u001b[39m, \u001b[38;5;124m'\u001b[39m\u001b[38;5;124mskin_rash\u001b[39m\u001b[38;5;124m'\u001b[39m, \u001b[38;5;124m'\u001b[39m\u001b[38;5;124mnodal_skin_eruptions\u001b[39m\u001b[38;5;124m'\u001b[39m,\u001b[38;5;124m'\u001b[39m\u001b[38;5;124mcontinuous_sneezing\u001b[39m\u001b[38;5;124m'\u001b[39m,\u001b[38;5;124m'\u001b[39m\u001b[38;5;124mshivering\u001b[39m\u001b[38;5;124m'\u001b[39m,\u001b[38;5;124m'\u001b[39m\u001b[38;5;124mchills\u001b[39m\u001b[38;5;124m'\u001b[39m,\u001b[38;5;124m'\u001b[39m\u001b[38;5;124mjoint_pain\u001b[39m\u001b[38;5;124m'\u001b[39m,\u001b[38;5;124m'\u001b[39m\u001b[38;5;124mstomach_pain\u001b[39m\u001b[38;5;124m'\u001b[39m,\n\u001b[0;32m      2\u001b[0m         \u001b[38;5;124m'\u001b[39m\u001b[38;5;124macidity\u001b[39m\u001b[38;5;124m'\u001b[39m,\u001b[38;5;124m'\u001b[39m\u001b[38;5;124mulcers_on_tongue\u001b[39m\u001b[38;5;124m'\u001b[39m,\u001b[38;5;124m'\u001b[39m\u001b[38;5;124mmuscle_wasting\u001b[39m\u001b[38;5;124m'\u001b[39m,\u001b[38;5;124m'\u001b[39m\u001b[38;5;124mvomiting\u001b[39m\u001b[38;5;124m'\u001b[39m,\u001b[38;5;124m'\u001b[39m\u001b[38;5;124mburning_micturition\u001b[39m\u001b[38;5;124m'\u001b[39m,\u001b[38;5;124m'\u001b[39m\u001b[38;5;124mspotting_ urination\u001b[39m\u001b[38;5;124m'\u001b[39m,\u001b[38;5;124m'\u001b[39m\u001b[38;5;124mfatigue\u001b[39m\u001b[38;5;124m'\u001b[39m,\n\u001b[0;32m      3\u001b[0m         \u001b[38;5;124m'\u001b[39m\u001b[38;5;124mweight_gain\u001b[39m\u001b[38;5;124m'\u001b[39m,\u001b[38;5;124m'\u001b[39m\u001b[38;5;124manxiety\u001b[39m\u001b[38;5;124m'\u001b[39m,\u001b[38;5;124m'\u001b[39m\u001b[38;5;124mcold_hands_and_feets\u001b[39m\u001b[38;5;124m'\u001b[39m,\u001b[38;5;124m'\u001b[39m\u001b[38;5;124mmood_swings\u001b[39m\u001b[38;5;124m'\u001b[39m,\u001b[38;5;124m'\u001b[39m\u001b[38;5;124mweight_loss\u001b[39m\u001b[38;5;124m'\u001b[39m,\u001b[38;5;124m'\u001b[39m\u001b[38;5;124mrestlessness\u001b[39m\u001b[38;5;124m'\u001b[39m,\u001b[38;5;124m'\u001b[39m\u001b[38;5;124mlethargy\u001b[39m\u001b[38;5;124m'\u001b[39m,\n\u001b[1;32m   (...)\u001b[0m\n\u001b[0;32m     21\u001b[0m         \u001b[38;5;124m'\u001b[39m\u001b[38;5;124msilver_like_dusting\u001b[39m\u001b[38;5;124m'\u001b[39m,\u001b[38;5;124m'\u001b[39m\u001b[38;5;124msmall_dents_in_nails\u001b[39m\u001b[38;5;124m'\u001b[39m,\u001b[38;5;124m'\u001b[39m\u001b[38;5;124minflammatory_nails\u001b[39m\u001b[38;5;124m'\u001b[39m,\u001b[38;5;124m'\u001b[39m\u001b[38;5;124mblister\u001b[39m\u001b[38;5;124m'\u001b[39m,\u001b[38;5;124m'\u001b[39m\u001b[38;5;124mred_sore_around_nose\u001b[39m\u001b[38;5;124m'\u001b[39m,\n\u001b[0;32m     22\u001b[0m         \u001b[38;5;124m'\u001b[39m\u001b[38;5;124myellow_crust_ooze\u001b[39m\u001b[38;5;124m'\u001b[39m]]\n\u001b[1;32m---> 23\u001b[0m X_train,X_test,y_train,y_test \u001b[38;5;241m=\u001b[39m \u001b[43mtrain_test_split\u001b[49m(Xfeatures,y,test_size\u001b[38;5;241m=\u001b[39m\u001b[38;5;241m0.3\u001b[39m,random_state\u001b[38;5;241m=\u001b[39m\u001b[38;5;241m42\u001b[39m)\n\u001b[0;32m     24\u001b[0m binary_rel_clf \u001b[38;5;241m=\u001b[39m BinaryRelevance(MultinomialNB())\n\u001b[0;32m     25\u001b[0m binary_rel_clf\u001b[38;5;241m.\u001b[39mfit(X_train,y_train)\n",
      "\u001b[1;31mNameError\u001b[0m: name 'train_test_split' is not defined"
     ]
    }
   ],
   "source": [
    "y = df[['itching', 'skin_rash', 'nodal_skin_eruptions','continuous_sneezing','shivering','chills','joint_pain','stomach_pain',\n",
    "        'acidity','ulcers_on_tongue','muscle_wasting','vomiting','burning_micturition','spotting_ urination','fatigue',\n",
    "        'weight_gain','anxiety','cold_hands_and_feets','mood_swings','weight_loss','restlessness','lethargy',\n",
    "        'patches_in_throat','irregular_sugar_level','cough','high_fever','sunken_eyes','breathlessness','sweating',\n",
    "        'dehydration','indigestion','headache','yellowish_skin','dark_urine','nausea','loss_of_appetite','pain_behind_the_eyes',\n",
    "        'back_pain','constipation','abdominal_pain','diarrhoea','mild_fever','yellow_urine','yellowing_of_eyes',\n",
    "        'acute_liver_failure','fluid_overload','swelling_of_stomach','swelled_lymph_nodes','malaise',\n",
    "        'blurred_and_distorted_vision','phlegm','throat_irritation','redness_of_eyes','sinus_pressure','runny_nose',\n",
    "        'congestion','chest_pain','weakness_in_limbs','fast_heart_rate','pain_during_bowel_movements','pain_in_anal_region',\n",
    "        'bloody_stool','irritation_in_anus','neck_pain','dizziness','cramps','bruising','obesity','swollen_legs',\n",
    "        'swollen_blood_vessels','puffy_face_and_eyes','enlarged_thyroid','brittle_nails','swollen_extremeties',\n",
    "        'excessive_hunger','extra_marital_contacts','drying_and_tingling_lips','slurred_speech','knee_pain','hip_joint_pain',\n",
    "        'muscle_weakness','stiff_neck','swelling_joints','movement_stiffness','spinning_movements','loss_of_balance',\n",
    "        'unsteadiness','weakness_of_one_body_side','loss_of_smell','bladder_discomfort','foul_smell_of urine',\n",
    "        'continuous_feel_of_urine','passage_of_gases','internal_itching','toxic_look_(typhos)','depression','irritability',\n",
    "        'muscle_pain','altered_sensorium','red_spots_over_body','belly_pain','abnormal_menstruation','dischromic _patches',\n",
    "        'watering_from_eyes','increased_appetite','polyuria','family_history','mucoid_sputum','rusty_sputum',\n",
    "        'lack_of_concentration','visual_disturbances','receiving_blood_transfusion','receiving_unsterile_injections',\n",
    "        'coma','stomach_bleeding','distention_of_abdomen','history_of_alcohol_consumption','fluid_overload','blood_in_sputum',\n",
    "        'prominent_veins_on_calf','palpitations','painful_walking','pus_filled_pimples','blackheads','scurring','skin_peeling',\n",
    "        'silver_like_dusting','small_dents_in_nails','inflammatory_nails','blister','red_sore_around_nose',\n",
    "        'yellow_crust_ooze']]\n",
    "X_train,X_test,y_train,y_test = train_test_split(Xfeatures,y,test_size=0.3,random_state=42)\n",
    "binary_rel_clf = BinaryRelevance(MultinomialNB())\n",
    "binary_rel_clf.fit(X_train,y_train)\n",
    "br_prediction = binary_rel_clf.predict(X_test)\n",
    "br_prediction.toarray()"
   ]
  },
  {
   "cell_type": "code",
   "execution_count": 25,
   "id": "a8b4c092",
   "metadata": {},
   "outputs": [
    {
     "data": {
      "text/plain": [
       "array([[0., 1., 0., ..., 0., 0., 0.],\n",
       "       [0., 1., 0., ..., 0., 0., 0.],\n",
       "       [0., 0., 0., ..., 0., 0., 0.],\n",
       "       ...,\n",
       "       [0., 0., 0., ..., 0., 0., 0.],\n",
       "       [0., 0., 0., ..., 0., 0., 0.],\n",
       "       [0., 1., 0., ..., 0., 0., 0.]])"
      ]
     },
     "execution_count": 25,
     "metadata": {},
     "output_type": "execute_result"
    }
   ],
   "source": [
    "from sklearn.naive_bayes import GaussianNB,MultinomialNB\n",
    "from sklearn.metrics import accuracy_score,hamming_loss\n",
    "from sklearn.model_selection import train_test_split\n",
    "from sklearn.feature_extraction.text import TfidfVectorizer\n",
    "y = df[['itching', 'skin_rash', 'nodal_skin_eruptions','continuous_sneezing','shivering','chills','joint_pain','stomach_pain',\n",
    "        'acidity','ulcers_on_tongue','muscle_wasting','vomiting','burning_micturition','spotting_ urination','fatigue',\n",
    "        'weight_gain','anxiety','cold_hands_and_feets','mood_swings','weight_loss','restlessness','lethargy',\n",
    "        'patches_in_throat','irregular_sugar_level','cough','high_fever','sunken_eyes','breathlessness','sweating',\n",
    "        'dehydration','indigestion','headache','yellowish_skin','dark_urine','nausea','loss_of_appetite','pain_behind_the_eyes',\n",
    "        'back_pain','constipation','abdominal_pain','diarrhoea','mild_fever','yellow_urine','yellowing_of_eyes',\n",
    "        'acute_liver_failure','fluid_overload','swelling_of_stomach','swelled_lymph_nodes','malaise',\n",
    "        'blurred_and_distorted_vision','phlegm','throat_irritation','redness_of_eyes','sinus_pressure','runny_nose',\n",
    "        'congestion','chest_pain','weakness_in_limbs','fast_heart_rate','pain_during_bowel_movements','pain_in_anal_region',\n",
    "        'bloody_stool','irritation_in_anus','neck_pain','dizziness','cramps','bruising','obesity','swollen_legs',\n",
    "        'swollen_blood_vessels','puffy_face_and_eyes','enlarged_thyroid','brittle_nails','swollen_extremeties',\n",
    "        'excessive_hunger','extra_marital_contacts','drying_and_tingling_lips','slurred_speech','knee_pain','hip_joint_pain',\n",
    "        'muscle_weakness','stiff_neck','swelling_joints','movement_stiffness','spinning_movements','loss_of_balance',\n",
    "        'unsteadiness','weakness_of_one_body_side','loss_of_smell','bladder_discomfort','foul_smell_of urine',\n",
    "        'continuous_feel_of_urine','passage_of_gases','internal_itching','toxic_look_(typhos)','depression','irritability',\n",
    "        'muscle_pain','altered_sensorium','red_spots_over_body','belly_pain','abnormal_menstruation','dischromic _patches',\n",
    "        'watering_from_eyes','increased_appetite','polyuria','family_history','mucoid_sputum','rusty_sputum',\n",
    "        'lack_of_concentration','visual_disturbances','receiving_blood_transfusion','receiving_unsterile_injections',\n",
    "        'coma','stomach_bleeding','distention_of_abdomen','history_of_alcohol_consumption','fluid_overload','blood_in_sputum',\n",
    "        'prominent_veins_on_calf','palpitations','painful_walking','pus_filled_pimples','blackheads','scurring','skin_peeling',\n",
    "        'silver_like_dusting','small_dents_in_nails','inflammatory_nails','blister','red_sore_around_nose',\n",
    "        'yellow_crust_ooze']]\n",
    "X_train,X_test,y_train,y_test = train_test_split(Xfeatures,y,test_size=0.3,random_state=42)\n",
    "binary_rel_clf = BinaryRelevance(MultinomialNB())\n",
    "binary_rel_clf.fit(X_train,y_train)\n",
    "br_prediction = binary_rel_clf.predict(X_test)\n",
    "br_prediction.toarray()"
   ]
  },
  {
   "cell_type": "code",
   "execution_count": 26,
   "id": "7db375a1",
   "metadata": {},
   "outputs": [
    {
     "ename": "ValueError",
     "evalue": "Expected 2D array, got scalar array instead:\narray=Paralysis (brain hemorrhage).\nReshape your data either using array.reshape(-1, 1) if your data has a single feature or array.reshape(1, -1) if it contains a single sample.",
     "output_type": "error",
     "traceback": [
      "\u001b[1;31m---------------------------------------------------------------------------\u001b[0m",
      "\u001b[1;31mValueError\u001b[0m                                Traceback (most recent call last)",
      "Cell \u001b[1;32mIn[26], line 2\u001b[0m\n\u001b[0;32m      1\u001b[0m ex1 \u001b[38;5;241m=\u001b[39m df[\u001b[38;5;124m'\u001b[39m\u001b[38;5;124mprognosis\u001b[39m\u001b[38;5;124m'\u001b[39m]\u001b[38;5;241m.\u001b[39miloc[\u001b[38;5;241m132\u001b[39m]\n\u001b[1;32m----> 2\u001b[0m \u001b[43mbinary_rel_clf\u001b[49m\u001b[38;5;241;43m.\u001b[39;49m\u001b[43mpredict\u001b[49m\u001b[43m(\u001b[49m\u001b[43mex1\u001b[49m\u001b[43m)\u001b[49m\u001b[38;5;241m.\u001b[39mtoarray()\n",
      "File \u001b[1;32m~\\AppData\\Roaming\\Python\\Python311\\site-packages\\skmultilearn\\problem_transform\\br.py:180\u001b[0m, in \u001b[0;36mBinaryRelevance.predict\u001b[1;34m(self, X)\u001b[0m\n\u001b[0;32m    167\u001b[0m \u001b[38;5;28;01mdef\u001b[39;00m \u001b[38;5;21mpredict\u001b[39m(\u001b[38;5;28mself\u001b[39m, X):\n\u001b[0;32m    168\u001b[0m \u001b[38;5;250m    \u001b[39m\u001b[38;5;124;03m\"\"\"Predict labels for X\u001b[39;00m\n\u001b[0;32m    169\u001b[0m \n\u001b[0;32m    170\u001b[0m \u001b[38;5;124;03m    Parameters\u001b[39;00m\n\u001b[1;32m   (...)\u001b[0m\n\u001b[0;32m    178\u001b[0m \u001b[38;5;124;03m        binary indicator matrix with label assignments\u001b[39;00m\n\u001b[0;32m    179\u001b[0m \u001b[38;5;124;03m    \"\"\"\u001b[39;00m\n\u001b[1;32m--> 180\u001b[0m     predictions \u001b[38;5;241m=\u001b[39m \u001b[43m[\u001b[49m\u001b[38;5;28;43mself\u001b[39;49m\u001b[38;5;241;43m.\u001b[39;49m\u001b[43m_ensure_multi_label_from_single_class\u001b[49m\u001b[43m(\u001b[49m\n\u001b[0;32m    181\u001b[0m \u001b[43m        \u001b[49m\u001b[38;5;28;43mself\u001b[39;49m\u001b[38;5;241;43m.\u001b[39;49m\u001b[43mclassifiers_\u001b[49m\u001b[43m[\u001b[49m\u001b[43mlabel\u001b[49m\u001b[43m]\u001b[49m\u001b[38;5;241;43m.\u001b[39;49m\u001b[43mpredict\u001b[49m\u001b[43m(\u001b[49m\u001b[38;5;28;43mself\u001b[39;49m\u001b[38;5;241;43m.\u001b[39;49m\u001b[43m_ensure_input_format\u001b[49m\u001b[43m(\u001b[49m\u001b[43mX\u001b[49m\u001b[43m)\u001b[49m\u001b[43m)\u001b[49m\u001b[43m)\u001b[49m\n\u001b[0;32m    182\u001b[0m \u001b[43m        \u001b[49m\u001b[38;5;28;43;01mfor\u001b[39;49;00m\u001b[43m \u001b[49m\u001b[43mlabel\u001b[49m\u001b[43m \u001b[49m\u001b[38;5;129;43;01min\u001b[39;49;00m\u001b[43m \u001b[49m\u001b[38;5;28;43mrange\u001b[39;49m\u001b[43m(\u001b[49m\u001b[38;5;28;43mself\u001b[39;49m\u001b[38;5;241;43m.\u001b[39;49m\u001b[43mmodel_count_\u001b[49m\u001b[43m)\u001b[49m\u001b[43m]\u001b[49m\n\u001b[0;32m    184\u001b[0m     \u001b[38;5;28;01mreturn\u001b[39;00m hstack(predictions)\n",
      "File \u001b[1;32m~\\AppData\\Roaming\\Python\\Python311\\site-packages\\skmultilearn\\problem_transform\\br.py:181\u001b[0m, in \u001b[0;36m<listcomp>\u001b[1;34m(.0)\u001b[0m\n\u001b[0;32m    167\u001b[0m \u001b[38;5;28;01mdef\u001b[39;00m \u001b[38;5;21mpredict\u001b[39m(\u001b[38;5;28mself\u001b[39m, X):\n\u001b[0;32m    168\u001b[0m \u001b[38;5;250m    \u001b[39m\u001b[38;5;124;03m\"\"\"Predict labels for X\u001b[39;00m\n\u001b[0;32m    169\u001b[0m \n\u001b[0;32m    170\u001b[0m \u001b[38;5;124;03m    Parameters\u001b[39;00m\n\u001b[1;32m   (...)\u001b[0m\n\u001b[0;32m    178\u001b[0m \u001b[38;5;124;03m        binary indicator matrix with label assignments\u001b[39;00m\n\u001b[0;32m    179\u001b[0m \u001b[38;5;124;03m    \"\"\"\u001b[39;00m\n\u001b[0;32m    180\u001b[0m     predictions \u001b[38;5;241m=\u001b[39m [\u001b[38;5;28mself\u001b[39m\u001b[38;5;241m.\u001b[39m_ensure_multi_label_from_single_class(\n\u001b[1;32m--> 181\u001b[0m         \u001b[38;5;28;43mself\u001b[39;49m\u001b[38;5;241;43m.\u001b[39;49m\u001b[43mclassifiers_\u001b[49m\u001b[43m[\u001b[49m\u001b[43mlabel\u001b[49m\u001b[43m]\u001b[49m\u001b[38;5;241;43m.\u001b[39;49m\u001b[43mpredict\u001b[49m\u001b[43m(\u001b[49m\u001b[38;5;28;43mself\u001b[39;49m\u001b[38;5;241;43m.\u001b[39;49m\u001b[43m_ensure_input_format\u001b[49m\u001b[43m(\u001b[49m\u001b[43mX\u001b[49m\u001b[43m)\u001b[49m\u001b[43m)\u001b[49m)\n\u001b[0;32m    182\u001b[0m         \u001b[38;5;28;01mfor\u001b[39;00m label \u001b[38;5;129;01min\u001b[39;00m \u001b[38;5;28mrange\u001b[39m(\u001b[38;5;28mself\u001b[39m\u001b[38;5;241m.\u001b[39mmodel_count_)]\n\u001b[0;32m    184\u001b[0m     \u001b[38;5;28;01mreturn\u001b[39;00m hstack(predictions)\n",
      "File \u001b[1;32m~\\AppData\\Roaming\\Python\\Python311\\site-packages\\sklearn\\naive_bayes.py:105\u001b[0m, in \u001b[0;36m_BaseNB.predict\u001b[1;34m(self, X)\u001b[0m\n\u001b[0;32m     91\u001b[0m \u001b[38;5;250m\u001b[39m\u001b[38;5;124;03m\"\"\"\u001b[39;00m\n\u001b[0;32m     92\u001b[0m \u001b[38;5;124;03mPerform classification on an array of test vectors X.\u001b[39;00m\n\u001b[0;32m     93\u001b[0m \n\u001b[1;32m   (...)\u001b[0m\n\u001b[0;32m    102\u001b[0m \u001b[38;5;124;03m    Predicted target values for X.\u001b[39;00m\n\u001b[0;32m    103\u001b[0m \u001b[38;5;124;03m\"\"\"\u001b[39;00m\n\u001b[0;32m    104\u001b[0m check_is_fitted(\u001b[38;5;28mself\u001b[39m)\n\u001b[1;32m--> 105\u001b[0m X \u001b[38;5;241m=\u001b[39m \u001b[38;5;28;43mself\u001b[39;49m\u001b[38;5;241;43m.\u001b[39;49m\u001b[43m_check_X\u001b[49m\u001b[43m(\u001b[49m\u001b[43mX\u001b[49m\u001b[43m)\u001b[49m\n\u001b[0;32m    106\u001b[0m jll \u001b[38;5;241m=\u001b[39m \u001b[38;5;28mself\u001b[39m\u001b[38;5;241m.\u001b[39m_joint_log_likelihood(X)\n\u001b[0;32m    107\u001b[0m \u001b[38;5;28;01mreturn\u001b[39;00m \u001b[38;5;28mself\u001b[39m\u001b[38;5;241m.\u001b[39mclasses_[np\u001b[38;5;241m.\u001b[39margmax(jll, axis\u001b[38;5;241m=\u001b[39m\u001b[38;5;241m1\u001b[39m)]\n",
      "File \u001b[1;32m~\\AppData\\Roaming\\Python\\Python311\\site-packages\\sklearn\\naive_bayes.py:579\u001b[0m, in \u001b[0;36m_BaseDiscreteNB._check_X\u001b[1;34m(self, X)\u001b[0m\n\u001b[0;32m    577\u001b[0m \u001b[38;5;28;01mdef\u001b[39;00m \u001b[38;5;21m_check_X\u001b[39m(\u001b[38;5;28mself\u001b[39m, X):\n\u001b[0;32m    578\u001b[0m \u001b[38;5;250m    \u001b[39m\u001b[38;5;124;03m\"\"\"Validate X, used only in predict* methods.\"\"\"\u001b[39;00m\n\u001b[1;32m--> 579\u001b[0m     \u001b[38;5;28;01mreturn\u001b[39;00m \u001b[38;5;28;43mself\u001b[39;49m\u001b[38;5;241;43m.\u001b[39;49m\u001b[43m_validate_data\u001b[49m\u001b[43m(\u001b[49m\u001b[43mX\u001b[49m\u001b[43m,\u001b[49m\u001b[43m \u001b[49m\u001b[43maccept_sparse\u001b[49m\u001b[38;5;241;43m=\u001b[39;49m\u001b[38;5;124;43m\"\u001b[39;49m\u001b[38;5;124;43mcsr\u001b[39;49m\u001b[38;5;124;43m\"\u001b[39;49m\u001b[43m,\u001b[49m\u001b[43m \u001b[49m\u001b[43mreset\u001b[49m\u001b[38;5;241;43m=\u001b[39;49m\u001b[38;5;28;43;01mFalse\u001b[39;49;00m\u001b[43m)\u001b[49m\n",
      "File \u001b[1;32m~\\AppData\\Roaming\\Python\\Python311\\site-packages\\sklearn\\base.py:565\u001b[0m, in \u001b[0;36mBaseEstimator._validate_data\u001b[1;34m(self, X, y, reset, validate_separately, **check_params)\u001b[0m\n\u001b[0;32m    563\u001b[0m     \u001b[38;5;28;01mraise\u001b[39;00m \u001b[38;5;167;01mValueError\u001b[39;00m(\u001b[38;5;124m\"\u001b[39m\u001b[38;5;124mValidation should be done on X, y or both.\u001b[39m\u001b[38;5;124m\"\u001b[39m)\n\u001b[0;32m    564\u001b[0m \u001b[38;5;28;01melif\u001b[39;00m \u001b[38;5;129;01mnot\u001b[39;00m no_val_X \u001b[38;5;129;01mand\u001b[39;00m no_val_y:\n\u001b[1;32m--> 565\u001b[0m     X \u001b[38;5;241m=\u001b[39m \u001b[43mcheck_array\u001b[49m\u001b[43m(\u001b[49m\u001b[43mX\u001b[49m\u001b[43m,\u001b[49m\u001b[43m \u001b[49m\u001b[43minput_name\u001b[49m\u001b[38;5;241;43m=\u001b[39;49m\u001b[38;5;124;43m\"\u001b[39;49m\u001b[38;5;124;43mX\u001b[39;49m\u001b[38;5;124;43m\"\u001b[39;49m\u001b[43m,\u001b[49m\u001b[43m \u001b[49m\u001b[38;5;241;43m*\u001b[39;49m\u001b[38;5;241;43m*\u001b[39;49m\u001b[43mcheck_params\u001b[49m\u001b[43m)\u001b[49m\n\u001b[0;32m    566\u001b[0m     out \u001b[38;5;241m=\u001b[39m X\n\u001b[0;32m    567\u001b[0m \u001b[38;5;28;01melif\u001b[39;00m no_val_X \u001b[38;5;129;01mand\u001b[39;00m \u001b[38;5;129;01mnot\u001b[39;00m no_val_y:\n",
      "File \u001b[1;32m~\\AppData\\Roaming\\Python\\Python311\\site-packages\\sklearn\\utils\\validation.py:894\u001b[0m, in \u001b[0;36mcheck_array\u001b[1;34m(array, accept_sparse, accept_large_sparse, dtype, order, copy, force_all_finite, ensure_2d, allow_nd, ensure_min_samples, ensure_min_features, estimator, input_name)\u001b[0m\n\u001b[0;32m    891\u001b[0m \u001b[38;5;28;01mif\u001b[39;00m ensure_2d:\n\u001b[0;32m    892\u001b[0m     \u001b[38;5;66;03m# If input is scalar raise error\u001b[39;00m\n\u001b[0;32m    893\u001b[0m     \u001b[38;5;28;01mif\u001b[39;00m array\u001b[38;5;241m.\u001b[39mndim \u001b[38;5;241m==\u001b[39m \u001b[38;5;241m0\u001b[39m:\n\u001b[1;32m--> 894\u001b[0m         \u001b[38;5;28;01mraise\u001b[39;00m \u001b[38;5;167;01mValueError\u001b[39;00m(\n\u001b[0;32m    895\u001b[0m             \u001b[38;5;124m\"\u001b[39m\u001b[38;5;124mExpected 2D array, got scalar array instead:\u001b[39m\u001b[38;5;130;01m\\n\u001b[39;00m\u001b[38;5;124marray=\u001b[39m\u001b[38;5;132;01m{}\u001b[39;00m\u001b[38;5;124m.\u001b[39m\u001b[38;5;130;01m\\n\u001b[39;00m\u001b[38;5;124m\"\u001b[39m\n\u001b[0;32m    896\u001b[0m             \u001b[38;5;124m\"\u001b[39m\u001b[38;5;124mReshape your data either using array.reshape(-1, 1) if \u001b[39m\u001b[38;5;124m\"\u001b[39m\n\u001b[0;32m    897\u001b[0m             \u001b[38;5;124m\"\u001b[39m\u001b[38;5;124myour data has a single feature or array.reshape(1, -1) \u001b[39m\u001b[38;5;124m\"\u001b[39m\n\u001b[0;32m    898\u001b[0m             \u001b[38;5;124m\"\u001b[39m\u001b[38;5;124mif it contains a single sample.\u001b[39m\u001b[38;5;124m\"\u001b[39m\u001b[38;5;241m.\u001b[39mformat(array)\n\u001b[0;32m    899\u001b[0m         )\n\u001b[0;32m    900\u001b[0m     \u001b[38;5;66;03m# If input is 1D raise error\u001b[39;00m\n\u001b[0;32m    901\u001b[0m     \u001b[38;5;28;01mif\u001b[39;00m array\u001b[38;5;241m.\u001b[39mndim \u001b[38;5;241m==\u001b[39m \u001b[38;5;241m1\u001b[39m:\n",
      "\u001b[1;31mValueError\u001b[0m: Expected 2D array, got scalar array instead:\narray=Paralysis (brain hemorrhage).\nReshape your data either using array.reshape(-1, 1) if your data has a single feature or array.reshape(1, -1) if it contains a single sample."
     ]
    }
   ],
   "source": [
    "ex1 = df['prognosis'].iloc[132]\n",
    "binary_rel_clf.predict(ex1).toarray()"
   ]
  },
  {
   "cell_type": "code",
   "execution_count": 27,
   "id": "31a56bc0",
   "metadata": {},
   "outputs": [
    {
     "data": {
      "text/plain": [
       "array([[0., 0., 0., 0., 0., 0., 0., 0., 0., 0., 0., 1., 0., 0., 0., 0.,\n",
       "        0., 0., 0., 0., 0., 0., 0., 0., 0., 0., 0., 0., 0., 0., 0., 1.,\n",
       "        0., 0., 0., 0., 0., 0., 0., 0., 0., 0., 0., 0., 0., 0., 0., 0.,\n",
       "        0., 0., 0., 0., 0., 0., 0., 0., 0., 0., 0., 0., 0., 0., 0., 0.,\n",
       "        0., 0., 0., 0., 0., 0., 0., 0., 0., 0., 0., 0., 0., 0., 0., 0.,\n",
       "        0., 0., 0., 0., 0., 0., 0., 1., 0., 0., 0., 0., 0., 0., 0., 0.,\n",
       "        0., 0., 1., 0., 0., 0., 0., 0., 0., 0., 0., 0., 0., 0., 0., 0.,\n",
       "        0., 0., 0., 0., 0., 0., 0., 0., 0., 0., 0., 0., 0., 0., 0., 0.,\n",
       "        0., 0., 0., 0.]])"
      ]
     },
     "execution_count": 27,
     "metadata": {},
     "output_type": "execute_result"
    }
   ],
   "source": [
    "ex1 = df['prognosis'].iloc[132]\n",
    "vec_example = tfidf.transform([ex1])\n",
    "binary_rel_clf.predict(vec_example).toarray()"
   ]
  },
  {
   "cell_type": "code",
   "execution_count": 28,
   "id": "f1806b2f",
   "metadata": {},
   "outputs": [
    {
     "ename": "ModuleNotFoundError",
     "evalue": "No module named 'scikit'",
     "output_type": "error",
     "traceback": [
      "\u001b[1;31m---------------------------------------------------------------------------\u001b[0m",
      "\u001b[1;31mModuleNotFoundError\u001b[0m                       Traceback (most recent call last)",
      "Cell \u001b[1;32mIn[28], line 1\u001b[0m\n\u001b[1;32m----> 1\u001b[0m \u001b[38;5;28;01mfrom\u001b[39;00m \u001b[38;5;21;01mscikit\u001b[39;00m\u001b[38;5;21;01m.\u001b[39;00m\u001b[38;5;21;01mmetrics\u001b[39;00m \u001b[38;5;28;01mimport\u001b[39;00m accuracy_score\n\u001b[0;32m      2\u001b[0m accuracy_score(X_text, br_prediction)\n",
      "\u001b[1;31mModuleNotFoundError\u001b[0m: No module named 'scikit'"
     ]
    }
   ],
   "source": [
    "from scikit.metrics import accuracy_score\n",
    "accuracy_score(X_text, br_prediction)"
   ]
  },
  {
   "cell_type": "code",
   "execution_count": 30,
   "id": "b773eb51",
   "metadata": {},
   "outputs": [
    {
     "ename": "ValueError",
     "evalue": "Classification metrics can't handle a mix of continuous-multioutput and multilabel-indicator targets",
     "output_type": "error",
     "traceback": [
      "\u001b[1;31m---------------------------------------------------------------------------\u001b[0m",
      "\u001b[1;31mValueError\u001b[0m                                Traceback (most recent call last)",
      "Cell \u001b[1;32mIn[30], line 2\u001b[0m\n\u001b[0;32m      1\u001b[0m \u001b[38;5;28;01mfrom\u001b[39;00m \u001b[38;5;21;01msklearn\u001b[39;00m\u001b[38;5;21;01m.\u001b[39;00m\u001b[38;5;21;01mmetrics\u001b[39;00m \u001b[38;5;28;01mimport\u001b[39;00m accuracy_score\n\u001b[1;32m----> 2\u001b[0m \u001b[43maccuracy_score\u001b[49m\u001b[43m(\u001b[49m\u001b[43mX_test\u001b[49m\u001b[43m,\u001b[49m\u001b[43m \u001b[49m\u001b[43mbr_prediction\u001b[49m\u001b[43m)\u001b[49m\n",
      "File \u001b[1;32m~\\AppData\\Roaming\\Python\\Python311\\site-packages\\sklearn\\utils\\_param_validation.py:192\u001b[0m, in \u001b[0;36mvalidate_params.<locals>.decorator.<locals>.wrapper\u001b[1;34m(*args, **kwargs)\u001b[0m\n\u001b[0;32m    187\u001b[0m validate_parameter_constraints(\n\u001b[0;32m    188\u001b[0m     parameter_constraints, params, caller_name\u001b[38;5;241m=\u001b[39mfunc\u001b[38;5;241m.\u001b[39m\u001b[38;5;18m__qualname__\u001b[39m\n\u001b[0;32m    189\u001b[0m )\n\u001b[0;32m    191\u001b[0m \u001b[38;5;28;01mtry\u001b[39;00m:\n\u001b[1;32m--> 192\u001b[0m     \u001b[38;5;28;01mreturn\u001b[39;00m \u001b[43mfunc\u001b[49m\u001b[43m(\u001b[49m\u001b[38;5;241;43m*\u001b[39;49m\u001b[43margs\u001b[49m\u001b[43m,\u001b[49m\u001b[43m \u001b[49m\u001b[38;5;241;43m*\u001b[39;49m\u001b[38;5;241;43m*\u001b[39;49m\u001b[43mkwargs\u001b[49m\u001b[43m)\u001b[49m\n\u001b[0;32m    193\u001b[0m \u001b[38;5;28;01mexcept\u001b[39;00m InvalidParameterError \u001b[38;5;28;01mas\u001b[39;00m e:\n\u001b[0;32m    194\u001b[0m     \u001b[38;5;66;03m# When the function is just a wrapper around an estimator, we allow\u001b[39;00m\n\u001b[0;32m    195\u001b[0m     \u001b[38;5;66;03m# the function to delegate validation to the estimator, but we replace\u001b[39;00m\n\u001b[0;32m    196\u001b[0m     \u001b[38;5;66;03m# the name of the estimator by the name of the function in the error\u001b[39;00m\n\u001b[0;32m    197\u001b[0m     \u001b[38;5;66;03m# message to avoid confusion.\u001b[39;00m\n\u001b[0;32m    198\u001b[0m     msg \u001b[38;5;241m=\u001b[39m re\u001b[38;5;241m.\u001b[39msub(\n\u001b[0;32m    199\u001b[0m         \u001b[38;5;124mr\u001b[39m\u001b[38;5;124m\"\u001b[39m\u001b[38;5;124mparameter of \u001b[39m\u001b[38;5;124m\\\u001b[39m\u001b[38;5;124mw+ must be\u001b[39m\u001b[38;5;124m\"\u001b[39m,\n\u001b[0;32m    200\u001b[0m         \u001b[38;5;124mf\u001b[39m\u001b[38;5;124m\"\u001b[39m\u001b[38;5;124mparameter of \u001b[39m\u001b[38;5;132;01m{\u001b[39;00mfunc\u001b[38;5;241m.\u001b[39m\u001b[38;5;18m__qualname__\u001b[39m\u001b[38;5;132;01m}\u001b[39;00m\u001b[38;5;124m must be\u001b[39m\u001b[38;5;124m\"\u001b[39m,\n\u001b[0;32m    201\u001b[0m         \u001b[38;5;28mstr\u001b[39m(e),\n\u001b[0;32m    202\u001b[0m     )\n",
      "File \u001b[1;32m~\\AppData\\Roaming\\Python\\Python311\\site-packages\\sklearn\\metrics\\_classification.py:221\u001b[0m, in \u001b[0;36maccuracy_score\u001b[1;34m(y_true, y_pred, normalize, sample_weight)\u001b[0m\n\u001b[0;32m    155\u001b[0m \u001b[38;5;250m\u001b[39m\u001b[38;5;124;03m\"\"\"Accuracy classification score.\u001b[39;00m\n\u001b[0;32m    156\u001b[0m \n\u001b[0;32m    157\u001b[0m \u001b[38;5;124;03mIn multilabel classification, this function computes subset accuracy:\u001b[39;00m\n\u001b[1;32m   (...)\u001b[0m\n\u001b[0;32m    217\u001b[0m \u001b[38;5;124;03m0.5\u001b[39;00m\n\u001b[0;32m    218\u001b[0m \u001b[38;5;124;03m\"\"\"\u001b[39;00m\n\u001b[0;32m    220\u001b[0m \u001b[38;5;66;03m# Compute accuracy for each possible representation\u001b[39;00m\n\u001b[1;32m--> 221\u001b[0m y_type, y_true, y_pred \u001b[38;5;241m=\u001b[39m \u001b[43m_check_targets\u001b[49m\u001b[43m(\u001b[49m\u001b[43my_true\u001b[49m\u001b[43m,\u001b[49m\u001b[43m \u001b[49m\u001b[43my_pred\u001b[49m\u001b[43m)\u001b[49m\n\u001b[0;32m    222\u001b[0m check_consistent_length(y_true, y_pred, sample_weight)\n\u001b[0;32m    223\u001b[0m \u001b[38;5;28;01mif\u001b[39;00m y_type\u001b[38;5;241m.\u001b[39mstartswith(\u001b[38;5;124m\"\u001b[39m\u001b[38;5;124mmultilabel\u001b[39m\u001b[38;5;124m\"\u001b[39m):\n",
      "File \u001b[1;32m~\\AppData\\Roaming\\Python\\Python311\\site-packages\\sklearn\\metrics\\_classification.py:95\u001b[0m, in \u001b[0;36m_check_targets\u001b[1;34m(y_true, y_pred)\u001b[0m\n\u001b[0;32m     92\u001b[0m     y_type \u001b[38;5;241m=\u001b[39m {\u001b[38;5;124m\"\u001b[39m\u001b[38;5;124mmulticlass\u001b[39m\u001b[38;5;124m\"\u001b[39m}\n\u001b[0;32m     94\u001b[0m \u001b[38;5;28;01mif\u001b[39;00m \u001b[38;5;28mlen\u001b[39m(y_type) \u001b[38;5;241m>\u001b[39m \u001b[38;5;241m1\u001b[39m:\n\u001b[1;32m---> 95\u001b[0m     \u001b[38;5;28;01mraise\u001b[39;00m \u001b[38;5;167;01mValueError\u001b[39;00m(\n\u001b[0;32m     96\u001b[0m         \u001b[38;5;124m\"\u001b[39m\u001b[38;5;124mClassification metrics can\u001b[39m\u001b[38;5;124m'\u001b[39m\u001b[38;5;124mt handle a mix of \u001b[39m\u001b[38;5;132;01m{0}\u001b[39;00m\u001b[38;5;124m and \u001b[39m\u001b[38;5;132;01m{1}\u001b[39;00m\u001b[38;5;124m targets\u001b[39m\u001b[38;5;124m\"\u001b[39m\u001b[38;5;241m.\u001b[39mformat(\n\u001b[0;32m     97\u001b[0m             type_true, type_pred\n\u001b[0;32m     98\u001b[0m         )\n\u001b[0;32m     99\u001b[0m     )\n\u001b[0;32m    101\u001b[0m \u001b[38;5;66;03m# We can't have more than one value on y_type => The set is no more needed\u001b[39;00m\n\u001b[0;32m    102\u001b[0m y_type \u001b[38;5;241m=\u001b[39m y_type\u001b[38;5;241m.\u001b[39mpop()\n",
      "\u001b[1;31mValueError\u001b[0m: Classification metrics can't handle a mix of continuous-multioutput and multilabel-indicator targets"
     ]
    }
   ],
   "source": [
    "from sklearn.metrics import accuracy_score\n",
    "accuracy_score(X_test, br_prediction)"
   ]
  },
  {
   "cell_type": "code",
   "execution_count": 31,
   "id": "198cb30a",
   "metadata": {},
   "outputs": [
    {
     "data": {
      "text/plain": [
       "0.5386178861788617"
      ]
     },
     "execution_count": 31,
     "metadata": {},
     "output_type": "execute_result"
    }
   ],
   "source": [
    "accuracy_score(y_test,br_prediction)"
   ]
  },
  {
   "cell_type": "code",
   "execution_count": null,
   "id": "9bbe663d",
   "metadata": {},
   "outputs": [],
   "source": []
  }
 ],
 "metadata": {
  "kernelspec": {
   "display_name": "Python 3 (ipykernel)",
   "language": "python",
   "name": "python3"
  },
  "language_info": {
   "codemirror_mode": {
    "name": "ipython",
    "version": 3
   },
   "file_extension": ".py",
   "mimetype": "text/x-python",
   "name": "python",
   "nbconvert_exporter": "python",
   "pygments_lexer": "ipython3",
   "version": "3.11.2"
  }
 },
 "nbformat": 4,
 "nbformat_minor": 5
}
