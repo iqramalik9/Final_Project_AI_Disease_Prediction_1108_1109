{
 "cells": [
  {
   "cell_type": "code",
   "execution_count": 1,
   "id": "f8ee0b1f",
   "metadata": {},
   "outputs": [
    {
     "ename": "FileNotFoundError",
     "evalue": "[Errno 2] No such file or directory: 'dataset-tags.csv'",
     "output_type": "error",
     "traceback": [
      "\u001b[1;31m---------------------------------------------------------------------------\u001b[0m",
      "\u001b[1;31mFileNotFoundError\u001b[0m                         Traceback (most recent call last)",
      "Cell \u001b[1;32mIn[1], line 3\u001b[0m\n\u001b[0;32m      1\u001b[0m \u001b[38;5;28;01mimport\u001b[39;00m \u001b[38;5;21;01mpandas\u001b[39;00m \u001b[38;5;28;01mas\u001b[39;00m \u001b[38;5;21;01mpd\u001b[39;00m\n\u001b[0;32m      2\u001b[0m \u001b[38;5;28;01mimport\u001b[39;00m \u001b[38;5;21;01mnumpy\u001b[39;00m \u001b[38;5;28;01mas\u001b[39;00m \u001b[38;5;21;01mnp\u001b[39;00m\n\u001b[1;32m----> 3\u001b[0m df \u001b[38;5;241m=\u001b[39m \u001b[43mpd\u001b[49m\u001b[38;5;241;43m.\u001b[39;49m\u001b[43mread_csv\u001b[49m\u001b[43m(\u001b[49m\u001b[38;5;124;43m\"\u001b[39;49m\u001b[38;5;124;43mdataset-tags.csv\u001b[39;49m\u001b[38;5;124;43m\"\u001b[39;49m\u001b[43m)\u001b[49m\n\u001b[0;32m      4\u001b[0m df\u001b[38;5;241m.\u001b[39mhead()\n",
      "File \u001b[1;32m~\\AppData\\Roaming\\Python\\Python311\\site-packages\\pandas\\io\\parsers\\readers.py:912\u001b[0m, in \u001b[0;36mread_csv\u001b[1;34m(filepath_or_buffer, sep, delimiter, header, names, index_col, usecols, dtype, engine, converters, true_values, false_values, skipinitialspace, skiprows, skipfooter, nrows, na_values, keep_default_na, na_filter, verbose, skip_blank_lines, parse_dates, infer_datetime_format, keep_date_col, date_parser, date_format, dayfirst, cache_dates, iterator, chunksize, compression, thousands, decimal, lineterminator, quotechar, quoting, doublequote, escapechar, comment, encoding, encoding_errors, dialect, on_bad_lines, delim_whitespace, low_memory, memory_map, float_precision, storage_options, dtype_backend)\u001b[0m\n\u001b[0;32m    899\u001b[0m kwds_defaults \u001b[38;5;241m=\u001b[39m _refine_defaults_read(\n\u001b[0;32m    900\u001b[0m     dialect,\n\u001b[0;32m    901\u001b[0m     delimiter,\n\u001b[1;32m   (...)\u001b[0m\n\u001b[0;32m    908\u001b[0m     dtype_backend\u001b[38;5;241m=\u001b[39mdtype_backend,\n\u001b[0;32m    909\u001b[0m )\n\u001b[0;32m    910\u001b[0m kwds\u001b[38;5;241m.\u001b[39mupdate(kwds_defaults)\n\u001b[1;32m--> 912\u001b[0m \u001b[38;5;28;01mreturn\u001b[39;00m \u001b[43m_read\u001b[49m\u001b[43m(\u001b[49m\u001b[43mfilepath_or_buffer\u001b[49m\u001b[43m,\u001b[49m\u001b[43m \u001b[49m\u001b[43mkwds\u001b[49m\u001b[43m)\u001b[49m\n",
      "File \u001b[1;32m~\\AppData\\Roaming\\Python\\Python311\\site-packages\\pandas\\io\\parsers\\readers.py:577\u001b[0m, in \u001b[0;36m_read\u001b[1;34m(filepath_or_buffer, kwds)\u001b[0m\n\u001b[0;32m    574\u001b[0m _validate_names(kwds\u001b[38;5;241m.\u001b[39mget(\u001b[38;5;124m\"\u001b[39m\u001b[38;5;124mnames\u001b[39m\u001b[38;5;124m\"\u001b[39m, \u001b[38;5;28;01mNone\u001b[39;00m))\n\u001b[0;32m    576\u001b[0m \u001b[38;5;66;03m# Create the parser.\u001b[39;00m\n\u001b[1;32m--> 577\u001b[0m parser \u001b[38;5;241m=\u001b[39m \u001b[43mTextFileReader\u001b[49m\u001b[43m(\u001b[49m\u001b[43mfilepath_or_buffer\u001b[49m\u001b[43m,\u001b[49m\u001b[43m \u001b[49m\u001b[38;5;241;43m*\u001b[39;49m\u001b[38;5;241;43m*\u001b[39;49m\u001b[43mkwds\u001b[49m\u001b[43m)\u001b[49m\n\u001b[0;32m    579\u001b[0m \u001b[38;5;28;01mif\u001b[39;00m chunksize \u001b[38;5;129;01mor\u001b[39;00m iterator:\n\u001b[0;32m    580\u001b[0m     \u001b[38;5;28;01mreturn\u001b[39;00m parser\n",
      "File \u001b[1;32m~\\AppData\\Roaming\\Python\\Python311\\site-packages\\pandas\\io\\parsers\\readers.py:1407\u001b[0m, in \u001b[0;36mTextFileReader.__init__\u001b[1;34m(self, f, engine, **kwds)\u001b[0m\n\u001b[0;32m   1404\u001b[0m     \u001b[38;5;28mself\u001b[39m\u001b[38;5;241m.\u001b[39moptions[\u001b[38;5;124m\"\u001b[39m\u001b[38;5;124mhas_index_names\u001b[39m\u001b[38;5;124m\"\u001b[39m] \u001b[38;5;241m=\u001b[39m kwds[\u001b[38;5;124m\"\u001b[39m\u001b[38;5;124mhas_index_names\u001b[39m\u001b[38;5;124m\"\u001b[39m]\n\u001b[0;32m   1406\u001b[0m \u001b[38;5;28mself\u001b[39m\u001b[38;5;241m.\u001b[39mhandles: IOHandles \u001b[38;5;241m|\u001b[39m \u001b[38;5;28;01mNone\u001b[39;00m \u001b[38;5;241m=\u001b[39m \u001b[38;5;28;01mNone\u001b[39;00m\n\u001b[1;32m-> 1407\u001b[0m \u001b[38;5;28mself\u001b[39m\u001b[38;5;241m.\u001b[39m_engine \u001b[38;5;241m=\u001b[39m \u001b[38;5;28;43mself\u001b[39;49m\u001b[38;5;241;43m.\u001b[39;49m\u001b[43m_make_engine\u001b[49m\u001b[43m(\u001b[49m\u001b[43mf\u001b[49m\u001b[43m,\u001b[49m\u001b[43m \u001b[49m\u001b[38;5;28;43mself\u001b[39;49m\u001b[38;5;241;43m.\u001b[39;49m\u001b[43mengine\u001b[49m\u001b[43m)\u001b[49m\n",
      "File \u001b[1;32m~\\AppData\\Roaming\\Python\\Python311\\site-packages\\pandas\\io\\parsers\\readers.py:1661\u001b[0m, in \u001b[0;36mTextFileReader._make_engine\u001b[1;34m(self, f, engine)\u001b[0m\n\u001b[0;32m   1659\u001b[0m     \u001b[38;5;28;01mif\u001b[39;00m \u001b[38;5;124m\"\u001b[39m\u001b[38;5;124mb\u001b[39m\u001b[38;5;124m\"\u001b[39m \u001b[38;5;129;01mnot\u001b[39;00m \u001b[38;5;129;01min\u001b[39;00m mode:\n\u001b[0;32m   1660\u001b[0m         mode \u001b[38;5;241m+\u001b[39m\u001b[38;5;241m=\u001b[39m \u001b[38;5;124m\"\u001b[39m\u001b[38;5;124mb\u001b[39m\u001b[38;5;124m\"\u001b[39m\n\u001b[1;32m-> 1661\u001b[0m \u001b[38;5;28mself\u001b[39m\u001b[38;5;241m.\u001b[39mhandles \u001b[38;5;241m=\u001b[39m \u001b[43mget_handle\u001b[49m\u001b[43m(\u001b[49m\n\u001b[0;32m   1662\u001b[0m \u001b[43m    \u001b[49m\u001b[43mf\u001b[49m\u001b[43m,\u001b[49m\n\u001b[0;32m   1663\u001b[0m \u001b[43m    \u001b[49m\u001b[43mmode\u001b[49m\u001b[43m,\u001b[49m\n\u001b[0;32m   1664\u001b[0m \u001b[43m    \u001b[49m\u001b[43mencoding\u001b[49m\u001b[38;5;241;43m=\u001b[39;49m\u001b[38;5;28;43mself\u001b[39;49m\u001b[38;5;241;43m.\u001b[39;49m\u001b[43moptions\u001b[49m\u001b[38;5;241;43m.\u001b[39;49m\u001b[43mget\u001b[49m\u001b[43m(\u001b[49m\u001b[38;5;124;43m\"\u001b[39;49m\u001b[38;5;124;43mencoding\u001b[39;49m\u001b[38;5;124;43m\"\u001b[39;49m\u001b[43m,\u001b[49m\u001b[43m \u001b[49m\u001b[38;5;28;43;01mNone\u001b[39;49;00m\u001b[43m)\u001b[49m\u001b[43m,\u001b[49m\n\u001b[0;32m   1665\u001b[0m \u001b[43m    \u001b[49m\u001b[43mcompression\u001b[49m\u001b[38;5;241;43m=\u001b[39;49m\u001b[38;5;28;43mself\u001b[39;49m\u001b[38;5;241;43m.\u001b[39;49m\u001b[43moptions\u001b[49m\u001b[38;5;241;43m.\u001b[39;49m\u001b[43mget\u001b[49m\u001b[43m(\u001b[49m\u001b[38;5;124;43m\"\u001b[39;49m\u001b[38;5;124;43mcompression\u001b[39;49m\u001b[38;5;124;43m\"\u001b[39;49m\u001b[43m,\u001b[49m\u001b[43m \u001b[49m\u001b[38;5;28;43;01mNone\u001b[39;49;00m\u001b[43m)\u001b[49m\u001b[43m,\u001b[49m\n\u001b[0;32m   1666\u001b[0m \u001b[43m    \u001b[49m\u001b[43mmemory_map\u001b[49m\u001b[38;5;241;43m=\u001b[39;49m\u001b[38;5;28;43mself\u001b[39;49m\u001b[38;5;241;43m.\u001b[39;49m\u001b[43moptions\u001b[49m\u001b[38;5;241;43m.\u001b[39;49m\u001b[43mget\u001b[49m\u001b[43m(\u001b[49m\u001b[38;5;124;43m\"\u001b[39;49m\u001b[38;5;124;43mmemory_map\u001b[39;49m\u001b[38;5;124;43m\"\u001b[39;49m\u001b[43m,\u001b[49m\u001b[43m \u001b[49m\u001b[38;5;28;43;01mFalse\u001b[39;49;00m\u001b[43m)\u001b[49m\u001b[43m,\u001b[49m\n\u001b[0;32m   1667\u001b[0m \u001b[43m    \u001b[49m\u001b[43mis_text\u001b[49m\u001b[38;5;241;43m=\u001b[39;49m\u001b[43mis_text\u001b[49m\u001b[43m,\u001b[49m\n\u001b[0;32m   1668\u001b[0m \u001b[43m    \u001b[49m\u001b[43merrors\u001b[49m\u001b[38;5;241;43m=\u001b[39;49m\u001b[38;5;28;43mself\u001b[39;49m\u001b[38;5;241;43m.\u001b[39;49m\u001b[43moptions\u001b[49m\u001b[38;5;241;43m.\u001b[39;49m\u001b[43mget\u001b[49m\u001b[43m(\u001b[49m\u001b[38;5;124;43m\"\u001b[39;49m\u001b[38;5;124;43mencoding_errors\u001b[39;49m\u001b[38;5;124;43m\"\u001b[39;49m\u001b[43m,\u001b[49m\u001b[43m \u001b[49m\u001b[38;5;124;43m\"\u001b[39;49m\u001b[38;5;124;43mstrict\u001b[39;49m\u001b[38;5;124;43m\"\u001b[39;49m\u001b[43m)\u001b[49m\u001b[43m,\u001b[49m\n\u001b[0;32m   1669\u001b[0m \u001b[43m    \u001b[49m\u001b[43mstorage_options\u001b[49m\u001b[38;5;241;43m=\u001b[39;49m\u001b[38;5;28;43mself\u001b[39;49m\u001b[38;5;241;43m.\u001b[39;49m\u001b[43moptions\u001b[49m\u001b[38;5;241;43m.\u001b[39;49m\u001b[43mget\u001b[49m\u001b[43m(\u001b[49m\u001b[38;5;124;43m\"\u001b[39;49m\u001b[38;5;124;43mstorage_options\u001b[39;49m\u001b[38;5;124;43m\"\u001b[39;49m\u001b[43m,\u001b[49m\u001b[43m \u001b[49m\u001b[38;5;28;43;01mNone\u001b[39;49;00m\u001b[43m)\u001b[49m\u001b[43m,\u001b[49m\n\u001b[0;32m   1670\u001b[0m \u001b[43m\u001b[49m\u001b[43m)\u001b[49m\n\u001b[0;32m   1671\u001b[0m \u001b[38;5;28;01massert\u001b[39;00m \u001b[38;5;28mself\u001b[39m\u001b[38;5;241m.\u001b[39mhandles \u001b[38;5;129;01mis\u001b[39;00m \u001b[38;5;129;01mnot\u001b[39;00m \u001b[38;5;28;01mNone\u001b[39;00m\n\u001b[0;32m   1672\u001b[0m f \u001b[38;5;241m=\u001b[39m \u001b[38;5;28mself\u001b[39m\u001b[38;5;241m.\u001b[39mhandles\u001b[38;5;241m.\u001b[39mhandle\n",
      "File \u001b[1;32m~\\AppData\\Roaming\\Python\\Python311\\site-packages\\pandas\\io\\common.py:859\u001b[0m, in \u001b[0;36mget_handle\u001b[1;34m(path_or_buf, mode, encoding, compression, memory_map, is_text, errors, storage_options)\u001b[0m\n\u001b[0;32m    854\u001b[0m \u001b[38;5;28;01melif\u001b[39;00m \u001b[38;5;28misinstance\u001b[39m(handle, \u001b[38;5;28mstr\u001b[39m):\n\u001b[0;32m    855\u001b[0m     \u001b[38;5;66;03m# Check whether the filename is to be opened in binary mode.\u001b[39;00m\n\u001b[0;32m    856\u001b[0m     \u001b[38;5;66;03m# Binary mode does not support 'encoding' and 'newline'.\u001b[39;00m\n\u001b[0;32m    857\u001b[0m     \u001b[38;5;28;01mif\u001b[39;00m ioargs\u001b[38;5;241m.\u001b[39mencoding \u001b[38;5;129;01mand\u001b[39;00m \u001b[38;5;124m\"\u001b[39m\u001b[38;5;124mb\u001b[39m\u001b[38;5;124m\"\u001b[39m \u001b[38;5;129;01mnot\u001b[39;00m \u001b[38;5;129;01min\u001b[39;00m ioargs\u001b[38;5;241m.\u001b[39mmode:\n\u001b[0;32m    858\u001b[0m         \u001b[38;5;66;03m# Encoding\u001b[39;00m\n\u001b[1;32m--> 859\u001b[0m         handle \u001b[38;5;241m=\u001b[39m \u001b[38;5;28;43mopen\u001b[39;49m\u001b[43m(\u001b[49m\n\u001b[0;32m    860\u001b[0m \u001b[43m            \u001b[49m\u001b[43mhandle\u001b[49m\u001b[43m,\u001b[49m\n\u001b[0;32m    861\u001b[0m \u001b[43m            \u001b[49m\u001b[43mioargs\u001b[49m\u001b[38;5;241;43m.\u001b[39;49m\u001b[43mmode\u001b[49m\u001b[43m,\u001b[49m\n\u001b[0;32m    862\u001b[0m \u001b[43m            \u001b[49m\u001b[43mencoding\u001b[49m\u001b[38;5;241;43m=\u001b[39;49m\u001b[43mioargs\u001b[49m\u001b[38;5;241;43m.\u001b[39;49m\u001b[43mencoding\u001b[49m\u001b[43m,\u001b[49m\n\u001b[0;32m    863\u001b[0m \u001b[43m            \u001b[49m\u001b[43merrors\u001b[49m\u001b[38;5;241;43m=\u001b[39;49m\u001b[43merrors\u001b[49m\u001b[43m,\u001b[49m\n\u001b[0;32m    864\u001b[0m \u001b[43m            \u001b[49m\u001b[43mnewline\u001b[49m\u001b[38;5;241;43m=\u001b[39;49m\u001b[38;5;124;43m\"\u001b[39;49m\u001b[38;5;124;43m\"\u001b[39;49m\u001b[43m,\u001b[49m\n\u001b[0;32m    865\u001b[0m \u001b[43m        \u001b[49m\u001b[43m)\u001b[49m\n\u001b[0;32m    866\u001b[0m     \u001b[38;5;28;01melse\u001b[39;00m:\n\u001b[0;32m    867\u001b[0m         \u001b[38;5;66;03m# Binary mode\u001b[39;00m\n\u001b[0;32m    868\u001b[0m         handle \u001b[38;5;241m=\u001b[39m \u001b[38;5;28mopen\u001b[39m(handle, ioargs\u001b[38;5;241m.\u001b[39mmode)\n",
      "\u001b[1;31mFileNotFoundError\u001b[0m: [Errno 2] No such file or directory: 'dataset-tags.csv'"
     ]
    }
   ],
   "source": [
    "import pandas as pd\n",
    "import numpy as np\n",
    "df = pd.read_csv(\"dataset-tags.csv\")\n",
    "df.head()"
   ]
  },
  {
   "cell_type": "code",
   "execution_count": null,
   "id": "e4b5a47d",
   "metadata": {},
   "outputs": [],
   "source": []
  },
  {
   "cell_type": "code",
   "execution_count": 2,
   "id": "5dd0429b",
   "metadata": {},
   "outputs": [
    {
     "data": {
      "text/html": [
       "<div>\n",
       "<style scoped>\n",
       "    .dataframe tbody tr th:only-of-type {\n",
       "        vertical-align: middle;\n",
       "    }\n",
       "\n",
       "    .dataframe tbody tr th {\n",
       "        vertical-align: top;\n",
       "    }\n",
       "\n",
       "    .dataframe thead th {\n",
       "        text-align: right;\n",
       "    }\n",
       "</style>\n",
       "<table border=\"1\" class=\"dataframe\">\n",
       "  <thead>\n",
       "    <tr style=\"text-align: right;\">\n",
       "      <th></th>\n",
       "      <th>title</th>\n",
       "      <th>tags</th>\n",
       "      <th>mysql</th>\n",
       "      <th>python</th>\n",
       "      <th>php</th>\n",
       "    </tr>\n",
       "  </thead>\n",
       "  <tbody>\n",
       "    <tr>\n",
       "      <th>0</th>\n",
       "      <td>Flask-SQLAlchemy - When are the tables/databas...</td>\n",
       "      <td>['python', 'mysql']</td>\n",
       "      <td>1</td>\n",
       "      <td>1.0</td>\n",
       "      <td>0.0</td>\n",
       "    </tr>\n",
       "    <tr>\n",
       "      <th>1</th>\n",
       "      <td>Combining two PHP variables for MySQL query</td>\n",
       "      <td>['php', 'mysql']</td>\n",
       "      <td>1</td>\n",
       "      <td>0.0</td>\n",
       "      <td>1.0</td>\n",
       "    </tr>\n",
       "    <tr>\n",
       "      <th>2</th>\n",
       "      <td>'Counting' the number of records that match a ...</td>\n",
       "      <td>['php', 'mysql']</td>\n",
       "      <td>1</td>\n",
       "      <td>0.0</td>\n",
       "      <td>1.0</td>\n",
       "    </tr>\n",
       "    <tr>\n",
       "      <th>3</th>\n",
       "      <td>Insert new row in a table and auto id number. ...</td>\n",
       "      <td>['php', 'mysql']</td>\n",
       "      <td>1</td>\n",
       "      <td>0.0</td>\n",
       "      <td>1.0</td>\n",
       "    </tr>\n",
       "    <tr>\n",
       "      <th>4</th>\n",
       "      <td>Create Multiple MySQL tables using PHP</td>\n",
       "      <td>['php', 'mysql']</td>\n",
       "      <td>1</td>\n",
       "      <td>0.0</td>\n",
       "      <td>1.0</td>\n",
       "    </tr>\n",
       "  </tbody>\n",
       "</table>\n",
       "</div>"
      ],
      "text/plain": [
       "                                               title                 tags   \n",
       "0  Flask-SQLAlchemy - When are the tables/databas...  ['python', 'mysql']  \\\n",
       "1        Combining two PHP variables for MySQL query     ['php', 'mysql']   \n",
       "2  'Counting' the number of records that match a ...     ['php', 'mysql']   \n",
       "3  Insert new row in a table and auto id number. ...     ['php', 'mysql']   \n",
       "4             Create Multiple MySQL tables using PHP     ['php', 'mysql']   \n",
       "\n",
       "   mysql  python  php  \n",
       "0      1     1.0  0.0  \n",
       "1      1     0.0  1.0  \n",
       "2      1     0.0  1.0  \n",
       "3      1     0.0  1.0  \n",
       "4      1     0.0  1.0  "
      ]
     },
     "execution_count": 2,
     "metadata": {},
     "output_type": "execute_result"
    }
   ],
   "source": [
    "import pandas as pd\n",
    "import numpy as np\n",
    "df = pd.read_csv(\"dataset-tags.csv\")\n",
    "df.head()"
   ]
  },
  {
   "cell_type": "code",
   "execution_count": 3,
   "id": "1fe4221d",
   "metadata": {},
   "outputs": [
    {
     "data": {
      "text/plain": [
       "title      object\n",
       "tags       object\n",
       "mysql       int64\n",
       "python    float64\n",
       "php       float64\n",
       "dtype: object"
      ]
     },
     "execution_count": 3,
     "metadata": {},
     "output_type": "execute_result"
    }
   ],
   "source": [
    "df.dtypes"
   ]
  },
  {
   "cell_type": "code",
   "execution_count": 4,
   "id": "50929e3f",
   "metadata": {},
   "outputs": [],
   "source": [
    "df['mysql'] = df['mysql'].astype(float)"
   ]
  },
  {
   "cell_type": "code",
   "execution_count": 8,
   "id": "004474c0",
   "metadata": {},
   "outputs": [],
   "source": [
    "from sklearn.naive_bayes import GaussianNB,MultinomialNB\n",
    "from sklearn.metrics import accuracy_score,hamming_loss\n",
    "from sklearn.model_selection import train_test_split\n",
    "from sklearn.feature_extraction.text import TfidfVectorizer"
   ]
  },
  {
   "cell_type": "code",
   "execution_count": 9,
   "id": "11677bb0",
   "metadata": {},
   "outputs": [
    {
     "name": "stdout",
     "output_type": "stream",
     "text": [
      "Defaulting to user installation because normal site-packages is not writeable\n",
      "Requirement already satisfied: scikit-multilearn in c:\\users\\zain\\appdata\\roaming\\python\\python311\\site-packages (0.2.0)\n"
     ]
    }
   ],
   "source": [
    "!pip install scikit-multilearn"
   ]
  },
  {
   "cell_type": "code",
   "execution_count": 10,
   "id": "2a947e0c",
   "metadata": {},
   "outputs": [],
   "source": [
    "from skmultilearn.problem_transform import BinaryRelevance\n",
    "from skmultilearn.problem_transform import ClassifierChain\n",
    "from skmultilearn.problem_transform import LabelPowerset"
   ]
  },
  {
   "cell_type": "code",
   "execution_count": 11,
   "id": "94377900",
   "metadata": {},
   "outputs": [
    {
     "name": "stdout",
     "output_type": "stream",
     "text": [
      "Defaulting to user installation because normal site-packages is not writeable\n",
      "Collecting neattext\n",
      "  Downloading neattext-0.1.3-py3-none-any.whl (114 kB)\n",
      "                                              0.0/114.7 kB ? eta -:--:--\n",
      "                                              0.0/114.7 kB ? eta -:--:--\n",
      "                                              0.0/114.7 kB ? eta -:--:--\n",
      "                                              0.0/114.7 kB ? eta -:--:--\n",
      "                                              0.0/114.7 kB ? eta -:--:--\n",
      "                                              0.0/114.7 kB ? eta -:--:--\n",
      "                                              0.0/114.7 kB ? eta -:--:--\n",
      "                                              0.0/114.7 kB ? eta -:--:--\n",
      "                                              0.0/114.7 kB ? eta -:--:--\n",
      "                                              0.0/114.7 kB ? eta -:--:--\n",
      "                                              0.0/114.7 kB ? eta -:--:--\n",
      "                                              0.0/114.7 kB ? eta -:--:--\n",
      "                                              0.0/114.7 kB ? eta -:--:--\n",
      "                                              0.0/114.7 kB ? eta -:--:--\n",
      "                                              0.0/114.7 kB ? eta -:--:--\n",
      "                                              0.0/114.7 kB ? eta -:--:--\n",
      "                                              0.0/114.7 kB ? eta -:--:--\n",
      "                                              0.0/114.7 kB ? eta -:--:--\n",
      "                                              0.0/114.7 kB ? eta -:--:--\n",
      "                                              0.0/114.7 kB ? eta -:--:--\n",
      "                                              0.0/114.7 kB ? eta -:--:--\n",
      "                                              0.0/114.7 kB ? eta -:--:--\n",
      "                                              0.0/114.7 kB ? eta -:--:--\n",
      "                                              0.0/114.7 kB ? eta -:--:--\n",
      "                                              0.0/114.7 kB ? eta -:--:--\n",
      "                                              0.0/114.7 kB ? eta -:--:--\n",
      "                                              0.0/114.7 kB ? eta -:--:--\n",
      "                                              0.0/114.7 kB ? eta -:--:--\n",
      "                                              0.0/114.7 kB ? eta -:--:--\n",
      "                                              0.0/114.7 kB ? eta -:--:--\n",
      "                                              0.0/114.7 kB ? eta -:--:--\n",
      "                                              0.0/114.7 kB ? eta -:--:--\n",
      "                                              0.0/114.7 kB ? eta -:--:--\n",
      "                                              0.0/114.7 kB ? eta -:--:--\n",
      "                                              0.0/114.7 kB ? eta -:--:--\n",
      "                                              0.0/114.7 kB ? eta -:--:--\n",
      "                                              0.0/114.7 kB ? eta -:--:--\n",
      "                                              0.0/114.7 kB ? eta -:--:--\n",
      "                                              0.0/114.7 kB ? eta -:--:--\n",
      "                                              0.0/114.7 kB ? eta -:--:--\n",
      "                                              0.0/114.7 kB ? eta -:--:--\n",
      "                                              0.0/114.7 kB ? eta -:--:--\n",
      "                                              0.0/114.7 kB ? eta -:--:--\n",
      "                                              0.0/114.7 kB ? eta -:--:--\n",
      "                                              0.0/114.7 kB ? eta -:--:--\n",
      "                                              0.0/114.7 kB ? eta -:--:--\n",
      "                                              0.0/114.7 kB ? eta -:--:--\n",
      "                                              0.0/114.7 kB ? eta -:--:--\n",
      "                                              0.0/114.7 kB ? eta -:--:--\n",
      "                                              0.0/114.7 kB ? eta -:--:--\n",
      "     ---                                      10.2/114.7 kB ? eta -:--:--\n",
      "     ---                                      10.2/114.7 kB ? eta -:--:--\n",
      "     ---                                      10.2/114.7 kB ? eta -:--:--\n",
      "     ---                                      10.2/114.7 kB ? eta -:--:--\n",
      "     ---                                      10.2/114.7 kB ? eta -:--:--\n",
      "     ---                                      10.2/114.7 kB ? eta -:--:--\n",
      "     ---                                      10.2/114.7 kB ? eta -:--:--\n",
      "     ---                                      10.2/114.7 kB ? eta -:--:--\n",
      "     ---                                      10.2/114.7 kB ? eta -:--:--\n",
      "     ---                                      10.2/114.7 kB ? eta -:--:--\n",
      "     ---                                      10.2/114.7 kB ? eta -:--:--\n",
      "     ---                                      10.2/114.7 kB ? eta -:--:--\n",
      "     ---                                      10.2/114.7 kB ? eta -:--:--\n",
      "     ---                                      10.2/114.7 kB ? eta -:--:--\n",
      "     ---                                      10.2/114.7 kB ? eta -:--:--\n",
      "     ---                                      10.2/114.7 kB ? eta -:--:--\n",
      "     ---                                      10.2/114.7 kB ? eta -:--:--\n",
      "     ---                                      10.2/114.7 kB ? eta -:--:--\n",
      "     ---                                      10.2/114.7 kB ? eta -:--:--\n",
      "     ---                                      10.2/114.7 kB ? eta -:--:--\n",
      "     ---                                      10.2/114.7 kB ? eta -:--:--\n",
      "     ---                                      10.2/114.7 kB ? eta -:--:--\n",
      "     ---                                      10.2/114.7 kB ? eta -:--:--\n",
      "     ---                                      10.2/114.7 kB ? eta -:--:--\n",
      "     ---                                      10.2/114.7 kB ? eta -:--:--\n",
      "     ---                                      10.2/114.7 kB ? eta -:--:--\n",
      "     ---                                      10.2/114.7 kB ? eta -:--:--\n",
      "     ---                                      10.2/114.7 kB ? eta -:--:--\n",
      "     ---                                      10.2/114.7 kB ? eta -:--:--\n",
      "     ---                                      10.2/114.7 kB ? eta -:--:--\n",
      "     ---                                      10.2/114.7 kB ? eta -:--:--\n",
      "     ---                                      10.2/114.7 kB ? eta -:--:--\n",
      "     ---                                      10.2/114.7 kB ? eta -:--:--\n",
      "     ---                                      10.2/114.7 kB ? eta -:--:--\n",
      "     ---                                      10.2/114.7 kB ? eta -:--:--\n",
      "     ---                                      10.2/114.7 kB ? eta -:--:--\n",
      "     ---                                      10.2/114.7 kB ? eta -:--:--\n",
      "     ---                                      10.2/114.7 kB ? eta -:--:--\n",
      "     ---                                      10.2/114.7 kB ? eta -:--:--\n",
      "     ---                                      10.2/114.7 kB ? eta -:--:--\n",
      "     ---                                      10.2/114.7 kB ? eta -:--:--\n",
      "     ---                                      10.2/114.7 kB ? eta -:--:--\n",
      "     ---                                      10.2/114.7 kB ? eta -:--:--\n",
      "     ---                                      10.2/114.7 kB ? eta -:--:--\n",
      "     ---                                      10.2/114.7 kB ? eta -:--:--\n",
      "     ---                                      10.2/114.7 kB ? eta -:--:--\n",
      "     ---                                      10.2/114.7 kB ? eta -:--:--\n",
      "     ---                                      10.2/114.7 kB ? eta -:--:--\n",
      "     ---                                      10.2/114.7 kB ? eta -:--:--\n",
      "     ---                                      10.2/114.7 kB ? eta -:--:--\n",
      "     ---                                      10.2/114.7 kB ? eta -:--:--\n",
      "     ----------                              30.7/114.7 kB 8.6 kB/s eta 0:00:10\n",
      "     ----------                              30.7/114.7 kB 8.6 kB/s eta 0:00:10\n",
      "     ----------                              30.7/114.7 kB 8.6 kB/s eta 0:00:10\n",
      "     ----------                              30.7/114.7 kB 8.6 kB/s eta 0:00:10\n",
      "     ----------                              30.7/114.7 kB 8.6 kB/s eta 0:00:10\n",
      "     ----------                              30.7/114.7 kB 8.6 kB/s eta 0:00:10\n",
      "     ----------                              30.7/114.7 kB 8.6 kB/s eta 0:00:10\n",
      "     ----------                              30.7/114.7 kB 8.6 kB/s eta 0:00:10\n",
      "     ----------                              30.7/114.7 kB 8.6 kB/s eta 0:00:10\n",
      "     ----------                              30.7/114.7 kB 8.6 kB/s eta 0:00:10\n",
      "     ----------                              30.7/114.7 kB 8.6 kB/s eta 0:00:10\n",
      "     ----------                              30.7/114.7 kB 8.6 kB/s eta 0:00:10\n",
      "     ----------                              30.7/114.7 kB 8.6 kB/s eta 0:00:10\n",
      "     ----------                              30.7/114.7 kB 8.6 kB/s eta 0:00:10\n",
      "     ----------                              30.7/114.7 kB 8.6 kB/s eta 0:00:10\n",
      "     ----------                              30.7/114.7 kB 8.6 kB/s eta 0:00:10\n",
      "     ----------                              30.7/114.7 kB 8.6 kB/s eta 0:00:10\n",
      "     ----------                              30.7/114.7 kB 8.6 kB/s eta 0:00:10\n",
      "     ----------                              30.7/114.7 kB 8.6 kB/s eta 0:00:10\n",
      "     ----------                              30.7/114.7 kB 8.6 kB/s eta 0:00:10\n",
      "     ----------                              30.7/114.7 kB 8.6 kB/s eta 0:00:10\n",
      "     ----------                              30.7/114.7 kB 8.6 kB/s eta 0:00:10\n",
      "     ----------                              30.7/114.7 kB 8.6 kB/s eta 0:00:10\n",
      "     ----------                              30.7/114.7 kB 8.6 kB/s eta 0:00:10\n",
      "     ----------                              30.7/114.7 kB 8.6 kB/s eta 0:00:10\n",
      "     ----------                              30.7/114.7 kB 8.6 kB/s eta 0:00:10\n",
      "     ----------                              30.7/114.7 kB 8.6 kB/s eta 0:00:10\n",
      "     ----------                              30.7/114.7 kB 8.6 kB/s eta 0:00:10\n",
      "     ----------                              30.7/114.7 kB 8.6 kB/s eta 0:00:10\n",
      "     ----------                              30.7/114.7 kB 8.6 kB/s eta 0:00:10\n",
      "     ----------                              30.7/114.7 kB 8.6 kB/s eta 0:00:10\n",
      "     ----------                              30.7/114.7 kB 8.6 kB/s eta 0:00:10\n",
      "     ----------                              30.7/114.7 kB 8.6 kB/s eta 0:00:10\n",
      "     ----------                              30.7/114.7 kB 8.6 kB/s eta 0:00:10\n",
      "     ----------                              30.7/114.7 kB 8.6 kB/s eta 0:00:10\n",
      "     ----------                              30.7/114.7 kB 8.6 kB/s eta 0:00:10\n",
      "     ----------                              30.7/114.7 kB 8.6 kB/s eta 0:00:10\n",
      "     ----------                              30.7/114.7 kB 8.6 kB/s eta 0:00:10\n",
      "     ----------                              30.7/114.7 kB 8.6 kB/s eta 0:00:10\n",
      "     ----------                              30.7/114.7 kB 8.6 kB/s eta 0:00:10\n",
      "     ----------                              30.7/114.7 kB 8.6 kB/s eta 0:00:10\n",
      "     ----------                              30.7/114.7 kB 8.6 kB/s eta 0:00:10\n",
      "     ----------                              30.7/114.7 kB 8.6 kB/s eta 0:00:10\n",
      "     ----------                              30.7/114.7 kB 8.6 kB/s eta 0:00:10\n",
      "     ----------                              30.7/114.7 kB 8.6 kB/s eta 0:00:10\n",
      "     ----------                              30.7/114.7 kB 8.6 kB/s eta 0:00:10\n",
      "     ----------                              30.7/114.7 kB 8.6 kB/s eta 0:00:10\n",
      "     ----------                              30.7/114.7 kB 8.6 kB/s eta 0:00:10\n",
      "     ----------                              30.7/114.7 kB 8.6 kB/s eta 0:00:10\n",
      "     ----------                              30.7/114.7 kB 8.6 kB/s eta 0:00:10\n",
      "     ----------                              30.7/114.7 kB 8.6 kB/s eta 0:00:10\n",
      "     -------------                           41.0/114.7 kB 6.5 kB/s eta 0:00:12\n",
      "     -------------                           41.0/114.7 kB 6.5 kB/s eta 0:00:12\n",
      "     -------------                           41.0/114.7 kB 6.5 kB/s eta 0:00:12\n",
      "     -------------                           41.0/114.7 kB 6.5 kB/s eta 0:00:12\n",
      "     -------------                           41.0/114.7 kB 6.5 kB/s eta 0:00:12\n",
      "     -------------                           41.0/114.7 kB 6.5 kB/s eta 0:00:12\n",
      "     -------------                           41.0/114.7 kB 6.5 kB/s eta 0:00:12\n",
      "     -------------                           41.0/114.7 kB 6.5 kB/s eta 0:00:12\n",
      "     -------------                           41.0/114.7 kB 6.5 kB/s eta 0:00:12\n",
      "     --------------------                    61.4/114.7 kB 9.9 kB/s eta 0:00:06\n",
      "     --------------------                    61.4/114.7 kB 9.9 kB/s eta 0:00:06\n",
      "     --------------------                    61.4/114.7 kB 9.9 kB/s eta 0:00:06\n",
      "     --------------------                    61.4/114.7 kB 9.9 kB/s eta 0:00:06\n",
      "     --------------------                    61.4/114.7 kB 9.9 kB/s eta 0:00:06\n",
      "     --------------------                    61.4/114.7 kB 9.9 kB/s eta 0:00:06\n",
      "     --------------------                    61.4/114.7 kB 9.9 kB/s eta 0:00:06\n",
      "     --------------------                    61.4/114.7 kB 9.9 kB/s eta 0:00:06\n",
      "     --------------------                    61.4/114.7 kB 9.9 kB/s eta 0:00:06\n",
      "     --------------------                    61.4/114.7 kB 9.9 kB/s eta 0:00:06\n",
      "     --------------------                    61.4/114.7 kB 9.9 kB/s eta 0:00:06\n",
      "     --------------------                    61.4/114.7 kB 9.9 kB/s eta 0:00:06\n",
      "     --------------------                    61.4/114.7 kB 9.9 kB/s eta 0:00:06\n",
      "     --------------------                    61.4/114.7 kB 9.9 kB/s eta 0:00:06\n",
      "     --------------------                    61.4/114.7 kB 9.9 kB/s eta 0:00:06\n",
      "     --------------------                    61.4/114.7 kB 9.9 kB/s eta 0:00:06\n",
      "     --------------------                    61.4/114.7 kB 9.9 kB/s eta 0:00:06\n",
      "     --------------------                    61.4/114.7 kB 9.9 kB/s eta 0:00:06\n",
      "     --------------------                    61.4/114.7 kB 9.9 kB/s eta 0:00:06\n",
      "     --------------------                    61.4/114.7 kB 9.9 kB/s eta 0:00:06\n",
      "     --------------------                    61.4/114.7 kB 9.9 kB/s eta 0:00:06\n",
      "     --------------------                    61.4/114.7 kB 9.9 kB/s eta 0:00:06\n",
      "     --------------------                    61.4/114.7 kB 9.9 kB/s eta 0:00:06\n",
      "     --------------------                    61.4/114.7 kB 9.9 kB/s eta 0:00:06\n",
      "     --------------------                    61.4/114.7 kB 9.9 kB/s eta 0:00:06\n",
      "     --------------------                    61.4/114.7 kB 9.9 kB/s eta 0:00:06\n",
      "     --------------------                    61.4/114.7 kB 9.9 kB/s eta 0:00:06\n",
      "     --------------------                    61.4/114.7 kB 9.9 kB/s eta 0:00:06\n",
      "     --------------------                    61.4/114.7 kB 9.9 kB/s eta 0:00:06\n",
      "     --------------------                    61.4/114.7 kB 9.9 kB/s eta 0:00:06\n",
      "     --------------------                    61.4/114.7 kB 9.9 kB/s eta 0:00:06\n",
      "     --------------------                    61.4/114.7 kB 9.9 kB/s eta 0:00:06\n",
      "     --------------------                    61.4/114.7 kB 9.9 kB/s eta 0:00:06\n",
      "     --------------------                    61.4/114.7 kB 9.9 kB/s eta 0:00:06\n",
      "     --------------------                    61.4/114.7 kB 9.9 kB/s eta 0:00:06\n",
      "     --------------------                    61.4/114.7 kB 9.9 kB/s eta 0:00:06\n",
      "     --------------------                    61.4/114.7 kB 9.9 kB/s eta 0:00:06\n",
      "     --------------------                    61.4/114.7 kB 9.9 kB/s eta 0:00:06\n",
      "     --------------------                    61.4/114.7 kB 9.9 kB/s eta 0:00:06\n",
      "     --------------------                    61.4/114.7 kB 9.9 kB/s eta 0:00:06\n",
      "     --------------------                    61.4/114.7 kB 9.9 kB/s eta 0:00:06\n",
      "     --------------------                    61.4/114.7 kB 9.9 kB/s eta 0:00:06\n",
      "     ------------------------                71.7/114.7 kB 8.6 kB/s eta 0:00:05\n",
      "     ------------------------                71.7/114.7 kB 8.6 kB/s eta 0:00:05\n",
      "     ------------------------                71.7/114.7 kB 8.6 kB/s eta 0:00:05\n",
      "     ------------------------                71.7/114.7 kB 8.6 kB/s eta 0:00:05\n",
      "     ------------------------                71.7/114.7 kB 8.6 kB/s eta 0:00:05\n",
      "     ------------------------                71.7/114.7 kB 8.6 kB/s eta 0:00:05\n",
      "     ------------------------                71.7/114.7 kB 8.6 kB/s eta 0:00:05\n",
      "     ------------------------                71.7/114.7 kB 8.6 kB/s eta 0:00:05\n",
      "     ------------------------                71.7/114.7 kB 8.6 kB/s eta 0:00:05\n",
      "     ------------------------                71.7/114.7 kB 8.6 kB/s eta 0:00:05\n",
      "     ------------------------                71.7/114.7 kB 8.6 kB/s eta 0:00:05\n",
      "     ------------------------                71.7/114.7 kB 8.6 kB/s eta 0:00:05\n",
      "     ------------------------                71.7/114.7 kB 8.6 kB/s eta 0:00:05\n",
      "     ------------------------------         92.2/114.7 kB 10.6 kB/s eta 0:00:03\n",
      "     ------------------------------         92.2/114.7 kB 10.6 kB/s eta 0:00:03\n",
      "     ------------------------------         92.2/114.7 kB 10.6 kB/s eta 0:00:03\n",
      "     ------------------------------         92.2/114.7 kB 10.6 kB/s eta 0:00:03\n",
      "     ------------------------------         92.2/114.7 kB 10.6 kB/s eta 0:00:03\n",
      "     ------------------------------         92.2/114.7 kB 10.6 kB/s eta 0:00:03\n",
      "     ------------------------------         92.2/114.7 kB 10.6 kB/s eta 0:00:03\n",
      "     ------------------------------         92.2/114.7 kB 10.6 kB/s eta 0:00:03\n",
      "     ------------------------------         92.2/114.7 kB 10.6 kB/s eta 0:00:03\n",
      "     ------------------------------         92.2/114.7 kB 10.6 kB/s eta 0:00:03\n",
      "     ------------------------------         92.2/114.7 kB 10.6 kB/s eta 0:00:03\n",
      "     ------------------------------         92.2/114.7 kB 10.6 kB/s eta 0:00:03\n",
      "     ------------------------------         92.2/114.7 kB 10.6 kB/s eta 0:00:03\n",
      "     ------------------------------------  112.6/114.7 kB 12.3 kB/s eta 0:00:01\n",
      "     ------------------------------------  112.6/114.7 kB 12.3 kB/s eta 0:00:01\n",
      "     ------------------------------------  112.6/114.7 kB 12.3 kB/s eta 0:00:01\n",
      "     ------------------------------------  112.6/114.7 kB 12.3 kB/s eta 0:00:01\n",
      "     ------------------------------------  112.6/114.7 kB 12.3 kB/s eta 0:00:01\n",
      "     ------------------------------------  112.6/114.7 kB 12.3 kB/s eta 0:00:01\n",
      "     ------------------------------------  112.6/114.7 kB 12.3 kB/s eta 0:00:01\n",
      "     ------------------------------------  112.6/114.7 kB 12.3 kB/s eta 0:00:01\n",
      "     ------------------------------------  112.6/114.7 kB 12.3 kB/s eta 0:00:01\n",
      "     ------------------------------------- 114.7/114.7 kB 11.9 kB/s eta 0:00:00\n",
      "Installing collected packages: neattext\n",
      "Successfully installed neattext-0.1.3\n"
     ]
    },
    {
     "name": "stderr",
     "output_type": "stream",
     "text": [
      "  WARNING: Retrying (Retry(total=4, connect=None, read=None, redirect=None, status=None)) after connection broken by 'ReadTimeoutError(\"HTTPSConnectionPool(host='files.pythonhosted.org', port=443): Read timed out. (read timeout=15)\")': /packages/ca/69/320062a5980ec9b6383bb9caf2a335e0f177164a2e7dd1d98f967b07e1c7/neattext-0.1.3-py3-none-any.whl\n",
      "  WARNING: Retrying (Retry(total=3, connect=None, read=None, redirect=None, status=None)) after connection broken by 'ReadTimeoutError(\"HTTPSConnectionPool(host='files.pythonhosted.org', port=443): Read timed out. (read timeout=15)\")': /packages/ca/69/320062a5980ec9b6383bb9caf2a335e0f177164a2e7dd1d98f967b07e1c7/neattext-0.1.3-py3-none-any.whl\n"
     ]
    }
   ],
   "source": [
    "!pip install neattext"
   ]
  },
  {
   "cell_type": "code",
   "execution_count": 12,
   "id": "3986368c",
   "metadata": {},
   "outputs": [],
   "source": [
    "import neattext as nt\n",
    "import neattext.functions as nfx"
   ]
  },
  {
   "cell_type": "code",
   "execution_count": 13,
   "id": "5c9d1e3b",
   "metadata": {},
   "outputs": [
    {
     "data": {
      "text/plain": [
       "0      {'text_noise': 11.267605633802818, 'text_lengt...\n",
       "1      {'text_noise': 4.651162790697675, 'text_length...\n",
       "2      {'text_noise': 9.90990990990991, 'text_length'...\n",
       "3      {'text_noise': 8.47457627118644, 'text_length'...\n",
       "4      {'text_noise': 2.631578947368421, 'text_length...\n",
       "                             ...                        \n",
       "139    {'text_noise': 26.41509433962264, 'text_length...\n",
       "140    {'text_noise': 3.8461538461538463, 'text_lengt...\n",
       "141    {'text_noise': 6.666666666666667, 'text_length...\n",
       "142    {'text_noise': 13.636363636363635, 'text_lengt...\n",
       "143    {'text_noise': 7.142857142857142, 'text_length...\n",
       "Name: title, Length: 144, dtype: object"
      ]
     },
     "execution_count": 13,
     "metadata": {},
     "output_type": "execute_result"
    }
   ],
   "source": [
    "df['title'].apply(lambda x:nt.TextFrame(x).noise_scan())"
   ]
  },
  {
   "cell_type": "code",
   "execution_count": 14,
   "id": "3d9fbd77",
   "metadata": {},
   "outputs": [
    {
     "data": {
      "text/plain": [
       "0                                [when, are, the, and]\n",
       "1                                           [two, for]\n",
       "2                    [the, of, that, a, and, the, and]\n",
       "3                                    [in, a, and, and]\n",
       "4                                              [using]\n",
       "                            ...                       \n",
       "139                                 [where, in, using]\n",
       "140                                               [to]\n",
       "141                                  [and, get, using]\n",
       "142    [how, to, the, of, a, with, a, back, into, the]\n",
       "143                                           [in, if]\n",
       "Name: title, Length: 144, dtype: object"
      ]
     },
     "execution_count": 14,
     "metadata": {},
     "output_type": "execute_result"
    }
   ],
   "source": [
    "df['title'].apply(lambda x:nt.TextExtractor(x).extract_stopwords())"
   ]
  },
  {
   "cell_type": "code",
   "execution_count": 15,
   "id": "1fa7175d",
   "metadata": {},
   "outputs": [
    {
     "data": {
      "text/plain": [
       "0      Flask-SQLAlchemy - tables/databases created de...\n",
       "1                    Combining PHP variables MySQL query\n",
       "2      'Counting' number records match certain criter...\n",
       "3         Insert new row table auto id number. Php MySQL\n",
       "4                       Create Multiple MySQL tables PHP\n",
       "                             ...                        \n",
       "139               Executing \"SELECT ... ... ...\" MySQLdb\n",
       "140                              SQLAlchemy reconnect db\n",
       "141                      mysql Count Distinct result php\n",
       "142    store result radio button database value, data...\n",
       "143                 Use SQL count result statement - PHP\n",
       "Name: title, Length: 144, dtype: object"
      ]
     },
     "execution_count": 15,
     "metadata": {},
     "output_type": "execute_result"
    }
   ],
   "source": [
    "df['title'].apply(nfx.remove_stopwords)"
   ]
  },
  {
   "cell_type": "code",
   "execution_count": 16,
   "id": "c4a6380d",
   "metadata": {},
   "outputs": [],
   "source": [
    "corpus = df['title'].apply(nfx.remove_stopwords)"
   ]
  },
  {
   "cell_type": "code",
   "execution_count": 17,
   "id": "7eb2f178",
   "metadata": {},
   "outputs": [
    {
     "data": {
      "text/plain": [
       "array([[0., 0., 0., ..., 0., 0., 0.],\n",
       "       [0., 0., 0., ..., 0., 0., 0.],\n",
       "       [0., 0., 0., ..., 0., 0., 0.],\n",
       "       ...,\n",
       "       [0., 0., 0., ..., 0., 0., 0.],\n",
       "       [0., 0., 0., ..., 0., 0., 0.],\n",
       "       [0., 0., 0., ..., 0., 0., 0.]])"
      ]
     },
     "execution_count": 17,
     "metadata": {},
     "output_type": "execute_result"
    }
   ],
   "source": [
    "tfidf = TfidfVectorizer()\n",
    "Xfeatures = tfidf.fit_transform(corpus).toarray()\n",
    "Xfeatures"
   ]
  },
  {
   "cell_type": "code",
   "execution_count": 18,
   "id": "c63273e2",
   "metadata": {},
   "outputs": [],
   "source": [
    "y = df[['mysql', 'python', 'php']]\n",
    "X_train,X_test,y_train,y_test = train_test_split(Xfeatures,y,test_size=0.3,random_state=42)\n"
   ]
  },
  {
   "cell_type": "code",
   "execution_count": 19,
   "id": "360321e7",
   "metadata": {},
   "outputs": [
    {
     "data": {
      "text/html": [
       "<style>#sk-container-id-1 {color: black;background-color: white;}#sk-container-id-1 pre{padding: 0;}#sk-container-id-1 div.sk-toggleable {background-color: white;}#sk-container-id-1 label.sk-toggleable__label {cursor: pointer;display: block;width: 100%;margin-bottom: 0;padding: 0.3em;box-sizing: border-box;text-align: center;}#sk-container-id-1 label.sk-toggleable__label-arrow:before {content: \"▸\";float: left;margin-right: 0.25em;color: #696969;}#sk-container-id-1 label.sk-toggleable__label-arrow:hover:before {color: black;}#sk-container-id-1 div.sk-estimator:hover label.sk-toggleable__label-arrow:before {color: black;}#sk-container-id-1 div.sk-toggleable__content {max-height: 0;max-width: 0;overflow: hidden;text-align: left;background-color: #f0f8ff;}#sk-container-id-1 div.sk-toggleable__content pre {margin: 0.2em;color: black;border-radius: 0.25em;background-color: #f0f8ff;}#sk-container-id-1 input.sk-toggleable__control:checked~div.sk-toggleable__content {max-height: 200px;max-width: 100%;overflow: auto;}#sk-container-id-1 input.sk-toggleable__control:checked~label.sk-toggleable__label-arrow:before {content: \"▾\";}#sk-container-id-1 div.sk-estimator input.sk-toggleable__control:checked~label.sk-toggleable__label {background-color: #d4ebff;}#sk-container-id-1 div.sk-label input.sk-toggleable__control:checked~label.sk-toggleable__label {background-color: #d4ebff;}#sk-container-id-1 input.sk-hidden--visually {border: 0;clip: rect(1px 1px 1px 1px);clip: rect(1px, 1px, 1px, 1px);height: 1px;margin: -1px;overflow: hidden;padding: 0;position: absolute;width: 1px;}#sk-container-id-1 div.sk-estimator {font-family: monospace;background-color: #f0f8ff;border: 1px dotted black;border-radius: 0.25em;box-sizing: border-box;margin-bottom: 0.5em;}#sk-container-id-1 div.sk-estimator:hover {background-color: #d4ebff;}#sk-container-id-1 div.sk-parallel-item::after {content: \"\";width: 100%;border-bottom: 1px solid gray;flex-grow: 1;}#sk-container-id-1 div.sk-label:hover label.sk-toggleable__label {background-color: #d4ebff;}#sk-container-id-1 div.sk-serial::before {content: \"\";position: absolute;border-left: 1px solid gray;box-sizing: border-box;top: 0;bottom: 0;left: 50%;z-index: 0;}#sk-container-id-1 div.sk-serial {display: flex;flex-direction: column;align-items: center;background-color: white;padding-right: 0.2em;padding-left: 0.2em;position: relative;}#sk-container-id-1 div.sk-item {position: relative;z-index: 1;}#sk-container-id-1 div.sk-parallel {display: flex;align-items: stretch;justify-content: center;background-color: white;position: relative;}#sk-container-id-1 div.sk-item::before, #sk-container-id-1 div.sk-parallel-item::before {content: \"\";position: absolute;border-left: 1px solid gray;box-sizing: border-box;top: 0;bottom: 0;left: 50%;z-index: -1;}#sk-container-id-1 div.sk-parallel-item {display: flex;flex-direction: column;z-index: 1;position: relative;background-color: white;}#sk-container-id-1 div.sk-parallel-item:first-child::after {align-self: flex-end;width: 50%;}#sk-container-id-1 div.sk-parallel-item:last-child::after {align-self: flex-start;width: 50%;}#sk-container-id-1 div.sk-parallel-item:only-child::after {width: 0;}#sk-container-id-1 div.sk-dashed-wrapped {border: 1px dashed gray;margin: 0 0.4em 0.5em 0.4em;box-sizing: border-box;padding-bottom: 0.4em;background-color: white;}#sk-container-id-1 div.sk-label label {font-family: monospace;font-weight: bold;display: inline-block;line-height: 1.2em;}#sk-container-id-1 div.sk-label-container {text-align: center;}#sk-container-id-1 div.sk-container {/* jupyter's `normalize.less` sets `[hidden] { display: none; }` but bootstrap.min.css set `[hidden] { display: none !important; }` so we also need the `!important` here to be able to override the default hidden behavior on the sphinx rendered scikit-learn.org. See: https://github.com/scikit-learn/scikit-learn/issues/21755 */display: inline-block !important;position: relative;}#sk-container-id-1 div.sk-text-repr-fallback {display: none;}</style><div id=\"sk-container-id-1\" class=\"sk-top-container\"><div class=\"sk-text-repr-fallback\"><pre>BinaryRelevance(classifier=MultinomialNB(), require_dense=[True, True])</pre><b>In a Jupyter environment, please rerun this cell to show the HTML representation or trust the notebook. <br />On GitHub, the HTML representation is unable to render, please try loading this page with nbviewer.org.</b></div><div class=\"sk-container\" hidden><div class=\"sk-item sk-dashed-wrapped\"><div class=\"sk-label-container\"><div class=\"sk-label sk-toggleable\"><input class=\"sk-toggleable__control sk-hidden--visually\" id=\"sk-estimator-id-1\" type=\"checkbox\" ><label for=\"sk-estimator-id-1\" class=\"sk-toggleable__label sk-toggleable__label-arrow\">BinaryRelevance</label><div class=\"sk-toggleable__content\"><pre>BinaryRelevance(classifier=MultinomialNB(), require_dense=[True, True])</pre></div></div></div><div class=\"sk-parallel\"><div class=\"sk-parallel-item\"><div class=\"sk-item\"><div class=\"sk-label-container\"><div class=\"sk-label sk-toggleable\"><input class=\"sk-toggleable__control sk-hidden--visually\" id=\"sk-estimator-id-2\" type=\"checkbox\" ><label for=\"sk-estimator-id-2\" class=\"sk-toggleable__label sk-toggleable__label-arrow\">classifier: MultinomialNB</label><div class=\"sk-toggleable__content\"><pre>MultinomialNB()</pre></div></div></div><div class=\"sk-serial\"><div class=\"sk-item\"><div class=\"sk-estimator sk-toggleable\"><input class=\"sk-toggleable__control sk-hidden--visually\" id=\"sk-estimator-id-3\" type=\"checkbox\" ><label for=\"sk-estimator-id-3\" class=\"sk-toggleable__label sk-toggleable__label-arrow\">MultinomialNB</label><div class=\"sk-toggleable__content\"><pre>MultinomialNB()</pre></div></div></div></div></div></div></div></div></div></div>"
      ],
      "text/plain": [
       "BinaryRelevance(classifier=MultinomialNB(), require_dense=[True, True])"
      ]
     },
     "execution_count": 19,
     "metadata": {},
     "output_type": "execute_result"
    }
   ],
   "source": [
    "binary_rel_clf = BinaryRelevance(MultinomialNB())\n",
    "binary_rel_clf.fit(X_train,y_train)\n"
   ]
  },
  {
   "cell_type": "code",
   "execution_count": 20,
   "id": "5e265c19",
   "metadata": {},
   "outputs": [
    {
     "data": {
      "text/plain": [
       "array([[1., 0., 1.],\n",
       "       [1., 0., 1.],\n",
       "       [1., 1., 0.],\n",
       "       [1., 0., 1.],\n",
       "       [1., 0., 1.],\n",
       "       [1., 0., 1.],\n",
       "       [1., 0., 1.],\n",
       "       [1., 1., 0.],\n",
       "       [1., 1., 0.],\n",
       "       [1., 0., 1.],\n",
       "       [1., 0., 1.],\n",
       "       [1., 0., 1.],\n",
       "       [1., 0., 1.],\n",
       "       [1., 1., 0.],\n",
       "       [1., 0., 1.],\n",
       "       [1., 0., 1.],\n",
       "       [1., 0., 1.],\n",
       "       [1., 0., 1.],\n",
       "       [1., 0., 1.],\n",
       "       [1., 1., 0.],\n",
       "       [1., 1., 0.],\n",
       "       [1., 1., 0.],\n",
       "       [1., 0., 1.],\n",
       "       [1., 0., 1.],\n",
       "       [1., 0., 1.],\n",
       "       [1., 0., 1.],\n",
       "       [1., 0., 1.],\n",
       "       [1., 0., 1.],\n",
       "       [1., 0., 1.],\n",
       "       [1., 1., 0.],\n",
       "       [1., 1., 0.],\n",
       "       [1., 1., 0.],\n",
       "       [1., 0., 1.],\n",
       "       [1., 1., 0.],\n",
       "       [1., 1., 0.],\n",
       "       [1., 1., 0.],\n",
       "       [1., 0., 1.],\n",
       "       [1., 0., 1.],\n",
       "       [1., 1., 0.],\n",
       "       [1., 0., 1.],\n",
       "       [1., 1., 0.],\n",
       "       [1., 0., 1.],\n",
       "       [1., 1., 0.],\n",
       "       [1., 1., 0.]])"
      ]
     },
     "execution_count": 20,
     "metadata": {},
     "output_type": "execute_result"
    }
   ],
   "source": [
    "br_prediction = binary_rel_clf.predict(X_test)\n",
    "br_prediction.toarray()"
   ]
  },
  {
   "cell_type": "code",
   "execution_count": 21,
   "id": "bdacbb3f",
   "metadata": {},
   "outputs": [],
   "source": [
    "ex1 = df['title'].iloc[0]"
   ]
  },
  {
   "cell_type": "code",
   "execution_count": 22,
   "id": "f28586cd",
   "metadata": {},
   "outputs": [
    {
     "data": {
      "text/plain": [
       "array([[1., 1., 0.]])"
      ]
     },
     "execution_count": 22,
     "metadata": {},
     "output_type": "execute_result"
    }
   ],
   "source": [
    "vec_example = tfidf.transform([ex1])\n",
    "binary_rel_clf.predict(vec_example).toarray()"
   ]
  },
  {
   "cell_type": "code",
   "execution_count": null,
   "id": "ede20644",
   "metadata": {},
   "outputs": [],
   "source": []
  }
 ],
 "metadata": {
  "kernelspec": {
   "display_name": "Python 3 (ipykernel)",
   "language": "python",
   "name": "python3"
  },
  "language_info": {
   "codemirror_mode": {
    "name": "ipython",
    "version": 3
   },
   "file_extension": ".py",
   "mimetype": "text/x-python",
   "name": "python",
   "nbconvert_exporter": "python",
   "pygments_lexer": "ipython3",
   "version": "3.11.2"
  }
 },
 "nbformat": 4,
 "nbformat_minor": 5
}
